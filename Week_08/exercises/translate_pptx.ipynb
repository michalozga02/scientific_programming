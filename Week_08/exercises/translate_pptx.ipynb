{
 "cells": [
  {
   "cell_type": "markdown",
   "metadata": {},
   "source": [
    "# Power Point Slideset Translator"
   ]
  },
  {
   "cell_type": "markdown",
   "metadata": {},
   "source": [
    "## Libraries and settings"
   ]
  },
  {
   "cell_type": "code",
   "execution_count": 1,
   "metadata": {},
   "outputs": [
    {
     "name": "stdout",
     "output_type": "stream",
     "text": [
      "/workspaces/scientific_programming/Week_08/exercises\n"
     ]
    }
   ],
   "source": [
    "# Libraries\n",
    "import os\n",
    "import asyncio\n",
    "from pptx import Presentation\n",
    "from googletrans import Translator\n",
    "import nest_asyncio\n",
    "\n",
    "# Ignore warnings\n",
    "import warnings\n",
    "warnings.filterwarnings('ignore')\n",
    "\n",
    "# Show current working directory\n",
    "print(os.getcwd())"
   ]
  },
  {
   "cell_type": "markdown",
   "metadata": {},
   "source": [
    "## Power Point Slideset Translator"
   ]
  },
  {
   "cell_type": "code",
   "execution_count": null,
   "metadata": {},
   "outputs": [],
   "source": [
    "# Apply the nest_asyncio patch\n",
    "nest_asyncio.apply()\n",
    "\n",
    "# Function to extract and translate text from a PPTX file\n",
    "async def translate_pptx(input_file, output_file, target_language):\n",
    "    # Load the presentation\n",
    "    presentation = Presentation(input_file)\n",
    "    translator = Translator()\n",
    "\n",
    "    # Iterate through all slides\n",
    "    for slide in presentation.slides:\n",
    "        for shape in slide.shapes:\n",
    "            # Check if the shape contains text\n",
    "            if shape.has_text_frame:\n",
    "                for paragraph in shape.text_frame.paragraphs:\n",
    "                    for run in paragraph.runs:\n",
    "                        original_text = run.text\n",
    "                        if original_text.strip():  # Only translate if text is present\n",
    "                            translated_text = await translator.translate(original_text, dest=target_language)\n",
    "                            run.text = translated_text.text\n",
    "\n",
    "    # Save the translated presentation\n",
    "    presentation.save(output_file)\n",
    "\n",
    "# Main program\n",
    "def main():\n",
    "    # Select the input file and choose a name for the output file\n",
    "    input_file = \"./data/camtasia_getting_started.pptx\"\n",
    "    output_file = \"./data/camtasia_getting_started_translated.pptx\"\n",
    "    target_language = \"de\"\n",
    "\n",
    "    asyncio.run(translate_pptx(input_file, output_file, target_language))\n",
    "    print(f\"The translated file has been stored as {output_file}.\")\n",
    "\n",
    "if __name__ == \"__main__\":\n",
    "    main()"
   ]
  },
  {
   "cell_type": "markdown",
   "metadata": {},
   "source": [
    "### Jupyter notebook --footer info-- (please always provide this at the end of each notebook)"
   ]
  },
  {
   "cell_type": "code",
   "execution_count": null,
   "metadata": {},
   "outputs": [],
   "source": [
    "import os\n",
    "import platform\n",
    "import socket\n",
    "from platform import python_version\n",
    "from datetime import datetime\n",
    "\n",
    "print('-----------------------------------')\n",
    "print(os.name.upper())\n",
    "print(platform.system(), '|', platform.release())\n",
    "print('Datetime:', datetime.now().strftime(\"%Y-%m-%d %H:%M:%S\"))\n",
    "print('Python Version:', python_version())\n",
    "print('-----------------------------------')"
   ]
  }
 ],
 "metadata": {
  "kernelspec": {
   "display_name": "Python 3",
   "language": "python",
   "name": "python3"
  },
  "language_info": {
   "codemirror_mode": {
    "name": "ipython",
    "version": 3
   },
   "file_extension": ".py",
   "mimetype": "text/x-python",
   "name": "python",
   "nbconvert_exporter": "python",
   "pygments_lexer": "ipython3",
   "version": "3.11.11"
  }
 },
 "nbformat": 4,
 "nbformat_minor": 2
}
