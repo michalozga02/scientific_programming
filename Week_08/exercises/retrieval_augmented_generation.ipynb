{
 "cells": [
  {
   "cell_type": "markdown",
   "id": "3a390a9f",
   "metadata": {},
   "source": [
    "## LLM + Retrieval Augmented Generation (RAG)"
   ]
  },
  {
   "cell_type": "markdown",
   "id": "b2928278",
   "metadata": {},
   "source": [
    "## Install additional libraries"
   ]
  },
  {
   "cell_type": "code",
   "execution_count": null,
   "id": "46cb36bc",
   "metadata": {},
   "outputs": [],
   "source": [
    "# Install Required Libraries (only if not already installed)\n",
    "import sys\n",
    "import subprocess\n",
    "import importlib.util\n",
    "\n",
    "def install_if_missing(import_name, pip_name=None):\n",
    "    \"\"\"Install a package if it is not already installed.\"\"\"\n",
    "    if importlib.util.find_spec(import_name) is None:\n",
    "        subprocess.check_call([sys.executable, \"-m\", \n",
    "                               \"pip\", \n",
    "                               \"install\", \n",
    "                               pip_name or import_name])\n",
    "\n",
    "# Dictionary: {import_name: pip_install_name}\n",
    "packages = {\n",
    "    \"faiss\": \"faiss-cpu\",\n",
    "    \"tiktoken\": \"tiktoken\"\n",
    "}\n",
    "\n",
    "for import_name, pip_name in packages.items():\n",
    "    install_if_missing(import_name, pip_name)\n"
   ]
  },
  {
   "cell_type": "markdown",
   "id": "405a85ee",
   "metadata": {},
   "source": [
    "## Imports and API keys"
   ]
  },
  {
   "cell_type": "code",
   "execution_count": null,
   "id": "2aebe845",
   "metadata": {},
   "outputs": [],
   "source": [
    "# Imports and API Keys\n",
    "import os\n",
    "import json\n",
    "import textwrap\n",
    "from PyPDF2 import PdfReader\n",
    "from langchain.docstore.document import Document\n",
    "from langchain.text_splitter import RecursiveCharacterTextSplitter\n",
    "from langchain.embeddings import OpenAIEmbeddings\n",
    "from langchain.vectorstores import FAISS\n",
    "from langchain.chat_models import ChatOpenAI\n",
    "from langchain.chains import RetrievalQA\n",
    "\n",
    "# Read OpenAI API key\n",
    "try:\n",
    "    with open('./data/credentials.json') as f:\n",
    "        credentials = json.load(f)\n",
    "    api_key = credentials['openai']['api_key']\n",
    "except:\n",
    "    print(\"Please provide your OpenAI API key in the credentials.json file.\")\n",
    "\n",
    "# Ignore warnings\n",
    "import warnings\n",
    "warnings.filterwarnings(\"ignore\")"
   ]
  },
  {
   "cell_type": "markdown",
   "id": "474a3db0",
   "metadata": {},
   "source": [
    "## Load PDF and convert to LangChain documents"
   ]
  },
  {
   "cell_type": "code",
   "execution_count": null,
   "id": "f9d62df6",
   "metadata": {},
   "outputs": [],
   "source": [
    "# Load PDF and Convert to LangChain Documents\n",
    "def load_pdf_with_pypdf(path):\n",
    "    \"\"\"Load a PDF file and convert it into LangChain documents using PyPDF2.\"\"\"\n",
    "    reader = PdfReader(path)\n",
    "    documents = []\n",
    "    for i, page in enumerate(reader.pages):\n",
    "        text = page.extract_text()\n",
    "        if text:\n",
    "            documents.append(Document(page_content=text, metadata={\"page\": i + 1}))\n",
    "    return documents\n",
    "\n",
    "# Provide PDF file\n",
    "pdf_path = \"./data/entire-vw-ar23.pdf\"\n",
    "documents = load_pdf_with_pypdf(pdf_path)"
   ]
  },
  {
   "cell_type": "markdown",
   "id": "f6e06a87",
   "metadata": {},
   "source": [
    "## Split text into chunks"
   ]
  },
  {
   "cell_type": "code",
   "execution_count": null,
   "id": "0f0a1fcb",
   "metadata": {},
   "outputs": [],
   "source": [
    "# Split Text into Chunks\n",
    "splitter = RecursiveCharacterTextSplitter(chunk_size=1000, chunk_overlap=200)\n",
    "chunks = splitter.split_documents(documents)"
   ]
  },
  {
   "cell_type": "markdown",
   "id": "5aab1195",
   "metadata": {},
   "source": [
    "## Create and store embeddings"
   ]
  },
  {
   "cell_type": "code",
   "execution_count": null,
   "id": "10fd02ad",
   "metadata": {},
   "outputs": [],
   "source": [
    "# Create embeddings\n",
    "embeddings = OpenAIEmbeddings(openai_api_key=api_key)\n",
    "\n",
    "# Store chunks in FAISS vector store\n",
    "vectorstore = FAISS.from_documents(chunks, embeddings)"
   ]
  },
  {
   "cell_type": "markdown",
   "id": "d5903681",
   "metadata": {},
   "source": [
    "## Conver the vector store into a retriever object and initialize LLM"
   ]
  },
  {
   "cell_type": "code",
   "execution_count": null,
   "id": "ebf84bfb",
   "metadata": {},
   "outputs": [],
   "source": [
    "# Convers the vector store into a retriever object\n",
    "retriever = vectorstore.as_retriever()\n",
    "\n",
    "# Initialize LLM\n",
    "llm = ChatOpenAI(model_name=\"gpt-3.5-turbo\", \n",
    "                 temperature=0,\n",
    "                 openai_api_key=api_key)\n",
    "\n",
    "# Creates a RetrievalQA chain\n",
    "qa_chain = RetrievalQA.from_chain_type(\n",
    "    llm=llm,\n",
    "    retriever=retriever,\n",
    "    return_source_documents=True)"
   ]
  },
  {
   "cell_type": "markdown",
   "id": "c77833ed",
   "metadata": {},
   "source": [
    "## Ask questions about the PDF"
   ]
  },
  {
   "cell_type": "code",
   "execution_count": null,
   "id": "33e3dc49",
   "metadata": {},
   "outputs": [],
   "source": [
    "# Ask a question about the PDF content\n",
    "query = \"\"\"What was the total sales revenue and operating result for the \n",
    "           Passenger Cars and Light Commercial Vehicles segment in 2023? In \n",
    "           which section can I find this information?\"\"\"\n",
    "\n",
    "# Get answer\n",
    "result = qa_chain(query)\n",
    "\n",
    "# Print formatted answer\n",
    "print(\"Answer:\")\n",
    "wrapped = textwrap.fill(result[\"result\"], width=80)\n",
    "print(wrapped)"
   ]
  },
  {
   "cell_type": "markdown",
   "id": "f3402ea1",
   "metadata": {},
   "source": [
    "### Jupyter notebook --footer info-- (please always provide this at the end of each notebook)"
   ]
  },
  {
   "cell_type": "code",
   "execution_count": null,
   "id": "fd18cfa2",
   "metadata": {},
   "outputs": [],
   "source": [
    "import os\n",
    "import platform\n",
    "import socket\n",
    "from platform import python_version\n",
    "from datetime import datetime\n",
    "\n",
    "print('-----------------------------------')\n",
    "print(os.name.upper())\n",
    "print(platform.system(), '|', platform.release())\n",
    "print('Datetime:', datetime.now().strftime(\"%Y-%m-%d %H:%M:%S\"))\n",
    "print('Python Version:', python_version())\n",
    "print('-----------------------------------')"
   ]
  }
 ],
 "metadata": {
  "kernelspec": {
   "display_name": "spenv",
   "language": "python",
   "name": "python3"
  },
  "language_info": {
   "codemirror_mode": {
    "name": "ipython",
    "version": 3
   },
   "file_extension": ".py",
   "mimetype": "text/x-python",
   "name": "python",
   "nbconvert_exporter": "python",
   "pygments_lexer": "ipython3",
   "version": "3.11.10"
  }
 },
 "nbformat": 4,
 "nbformat_minor": 5
}
