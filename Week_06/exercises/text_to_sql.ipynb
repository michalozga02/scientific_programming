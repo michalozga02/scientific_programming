{
 "cells": [
  {
   "cell_type": "markdown",
   "id": "61847f62",
   "metadata": {},
   "source": [
    "# Interacting with SQL Databases Using Langchain's SQL Agents"
   ]
  },
  {
   "cell_type": "markdown",
   "id": "9b8df3dd",
   "metadata": {},
   "source": [
    "## Libraries and Settings"
   ]
  },
  {
   "cell_type": "code",
   "execution_count": 1,
   "id": "b027d889",
   "metadata": {},
   "outputs": [
    {
     "name": "stdout",
     "output_type": "stream",
     "text": [
      "/workspaces/scientific_programming/Week_06/exercises\n"
     ]
    }
   ],
   "source": [
    "# Libraries\n",
    "import os\n",
    "import json\n",
    "import sqlite3\n",
    "import pandas as pd\n",
    "import matplotlib.pyplot as plt\n",
    "\n",
    "from langchain.chat_models import ChatOpenAI\n",
    "from langchain.prompts import PromptTemplate\n",
    "from langchain.schema import HumanMessage, SystemMessage\n",
    "\n",
    "# Read OpenAI API key\n",
    "try:\n",
    "    with open('./data/credentials.json') as f:\n",
    "        credentials = json.load(f)\n",
    "    api_key = credentials['openai']['api_key']\n",
    "except:\n",
    "    print(\"Please provide your OpenAI API key in the credentials.json file.\")\n",
    "\n",
    "# Path to the database\n",
    "DB_PATH = './data/apartments_data.db'\n",
    "\n",
    "# Settings\n",
    "import warnings\n",
    "warnings.filterwarnings(\"ignore\")\n",
    "\n",
    "# Current working directory\n",
    "print(os.getcwd())"
   ]
  },
  {
   "cell_type": "markdown",
   "id": "18f83bf3",
   "metadata": {},
   "source": [
    "## Function to query the database and return the result as a DataFrame"
   ]
  },
  {
   "cell_type": "code",
   "execution_count": 2,
   "id": "288c472a",
   "metadata": {},
   "outputs": [],
   "source": [
    "# Function to query the database and return the result as a DataFrame\n",
    "def query_database(sql_query):\n",
    "    \"\"\"Execute an SQL query on the SQLite database and return the result as a DataFrame.\"\"\"\n",
    "    connection = sqlite3.connect(DB_PATH)\n",
    "    cursor = connection.cursor()\n",
    "    try:\n",
    "        cursor.execute(sql_query)\n",
    "        result = cursor.fetchall()\n",
    "        columns = [description[0] for description in cursor.description]\n",
    "        connection.close()\n",
    "        df = pd.DataFrame(result, columns=columns)\n",
    "        return df\n",
    "    except Exception as e:\n",
    "        connection.close()\n",
    "        raise e"
   ]
  },
  {
   "cell_type": "markdown",
   "id": "d04ae4e8",
   "metadata": {},
   "source": [
    "## Standard SQL queries"
   ]
  },
  {
   "cell_type": "markdown",
   "id": "59e665f8",
   "metadata": {},
   "source": [
    "### Select all apartments"
   ]
  },
  {
   "cell_type": "code",
   "execution_count": 3,
   "id": "7f732210",
   "metadata": {},
   "outputs": [
    {
     "data": {
      "text/html": [
       "<div>\n",
       "<style scoped>\n",
       "    .dataframe tbody tr th:only-of-type {\n",
       "        vertical-align: middle;\n",
       "    }\n",
       "\n",
       "    .dataframe tbody tr th {\n",
       "        vertical-align: top;\n",
       "    }\n",
       "\n",
       "    .dataframe thead th {\n",
       "        text-align: right;\n",
       "    }\n",
       "</style>\n",
       "<table border=\"1\" class=\"dataframe\">\n",
       "  <thead>\n",
       "    <tr style=\"text-align: right;\">\n",
       "      <th></th>\n",
       "      <th>address</th>\n",
       "      <th>rooms</th>\n",
       "      <th>area</th>\n",
       "      <th>price</th>\n",
       "    </tr>\n",
       "  </thead>\n",
       "  <tbody>\n",
       "    <tr>\n",
       "      <th>0</th>\n",
       "      <td>Neuhusstrasse 6, 8630 Rüti ZH, ZH</td>\n",
       "      <td>3.0</td>\n",
       "      <td>49</td>\n",
       "      <td>1441</td>\n",
       "    </tr>\n",
       "    <tr>\n",
       "      <th>1</th>\n",
       "      <td>Widacherstrasse 5, 8630 Rüti ZH, ZH</td>\n",
       "      <td>3.0</td>\n",
       "      <td>111</td>\n",
       "      <td>2600</td>\n",
       "    </tr>\n",
       "    <tr>\n",
       "      <th>2</th>\n",
       "      <td>Widenweg 14, 8630 Rüti ZH, ZH</td>\n",
       "      <td>3.0</td>\n",
       "      <td>58</td>\n",
       "      <td>1490</td>\n",
       "    </tr>\n",
       "    <tr>\n",
       "      <th>3</th>\n",
       "      <td>Rain 1, 8630 Rüti ZH, ZH</td>\n",
       "      <td>4.0</td>\n",
       "      <td>118</td>\n",
       "      <td>3240</td>\n",
       "    </tr>\n",
       "    <tr>\n",
       "      <th>4</th>\n",
       "      <td>Bachtelstrasse 24b, 8630 Rüti ZH, ZH</td>\n",
       "      <td>3.0</td>\n",
       "      <td>66</td>\n",
       "      <td>1450</td>\n",
       "    </tr>\n",
       "  </tbody>\n",
       "</table>\n",
       "</div>"
      ],
      "text/plain": [
       "                                address  rooms  area  price\n",
       "0     Neuhusstrasse 6, 8630 Rüti ZH, ZH    3.0    49   1441\n",
       "1   Widacherstrasse 5, 8630 Rüti ZH, ZH    3.0   111   2600\n",
       "2         Widenweg 14, 8630 Rüti ZH, ZH    3.0    58   1490\n",
       "3              Rain 1, 8630 Rüti ZH, ZH    4.0   118   3240\n",
       "4  Bachtelstrasse 24b, 8630 Rüti ZH, ZH    3.0    66   1450"
      ]
     },
     "execution_count": 3,
     "metadata": {},
     "output_type": "execute_result"
    }
   ],
   "source": [
    "# Count number of apartments\n",
    "query = '''SELECT \n",
    "           address,\n",
    "           rooms,\n",
    "           area,\n",
    "           price\n",
    "           FROM apartments_table'''\n",
    "\n",
    "# Query the database\n",
    "result = query_database(query)\n",
    "\n",
    "# Show the first 5 rows\n",
    "result.head()"
   ]
  },
  {
   "cell_type": "markdown",
   "id": "843d0328",
   "metadata": {},
   "source": [
    "### Count the number of apartments"
   ]
  },
  {
   "cell_type": "code",
   "execution_count": 4,
   "id": "3768f5e6",
   "metadata": {},
   "outputs": [
    {
     "name": "stdout",
     "output_type": "stream",
     "text": [
      "Number of apartments: 774\n"
     ]
    }
   ],
   "source": [
    "# Count number of apartments\n",
    "query = '''SELECT COUNT(*) AS apartment_count\n",
    "           FROM apartments_table'''\n",
    "\n",
    "# Query the database\n",
    "result = query_database(query)\n",
    "\n",
    "# Show the count\n",
    "print(\"Number of apartments:\", result['apartment_count'].iloc[0])"
   ]
  },
  {
   "cell_type": "markdown",
   "id": "2b3fd6dc",
   "metadata": {},
   "source": [
    "### Calculate the average price of selected apartments"
   ]
  },
  {
   "cell_type": "code",
   "execution_count": 5,
   "id": "7e5312b1",
   "metadata": {},
   "outputs": [
    {
     "name": "stdout",
     "output_type": "stream",
     "text": [
      "Average price of apartments with 3.5 rooms and >= 100m² living area: 2699.0443\n"
     ]
    }
   ],
   "source": [
    "# Query\n",
    "query = '''SELECT AVG(price) AS average_price\n",
    "           FROM apartments_table\n",
    "           WHERE rooms = 3.5;'''\n",
    "\n",
    "# Query the database\n",
    "result = query_database(query)\n",
    "\n",
    "# Show the average price\n",
    "print(\"Average price of apartments with 3.5 rooms and >= 100m² living area:\", \n",
    "      f\"{result['average_price'].iloc[0]:.4f}\")"
   ]
  },
  {
   "cell_type": "markdown",
   "id": "1a6edc28",
   "metadata": {},
   "source": [
    "## Use an SQL Database Agent with LangChain to query the database"
   ]
  },
  {
   "cell_type": "markdown",
   "id": "9ebe64b9",
   "metadata": {},
   "source": [
    "### LangChain Setup"
   ]
  },
  {
   "cell_type": "code",
   "execution_count": 6,
   "id": "3a07d439",
   "metadata": {},
   "outputs": [],
   "source": [
    "# Function to query the database and return the result as a DataFrame\n",
    "def query_database(sql_query):\n",
    "    \"Execute an SQL query on the SQLite database and return the result as a DataFrame.\"\n",
    "    connection = sqlite3.connect(DB_PATH)\n",
    "    cursor = connection.cursor()\n",
    "    try:\n",
    "        cursor.execute(sql_query)\n",
    "        result = cursor.fetchall()\n",
    "        columns = [description[0] for description in cursor.description]\n",
    "        connection.close()\n",
    "        df = pd.DataFrame(result, columns=columns)\n",
    "        return df, None\n",
    "    except Exception as e:\n",
    "        connection.close()\n",
    "        return pd.DataFrame(), str(e)\n",
    "\n",
    "# Function to generate an SQL query using LangChain\n",
    "def langchain_sql_agent(user_prompt):\n",
    "    \"\"\"Generate and execute an SQL query using LangChain.\"\"\"\n",
    "    \n",
    "    # Initialize the ChatOpenAI model\n",
    "    chat = ChatOpenAI(\n",
    "        temperature=0,\n",
    "        model=\"gpt-3.5-turbo\",\n",
    "        openai_api_key=api_key\n",
    "    )\n",
    "\n",
    "    # System prompt for the agent\n",
    "    system_prompt = SystemMessage(\n",
    "        content=\"\"\"You are an SQL expert. You translate natural language questions \n",
    "                    into valid SQL queries. Ensure the SQL query does not include \n",
    "                    any Markdown formatting.\"\"\")\n",
    "    \n",
    "    # User prompt\n",
    "    user_prompt = HumanMessage(content=f\"Translate this request into a valid SQL query: {user_prompt}\")\n",
    "    \n",
    "    # Generate SQL query using LangChain\n",
    "    try:\n",
    "        response = chat([system_prompt, user_prompt])\n",
    "        sql_query = response.content.strip()\n",
    "        \n",
    "        # Remove any Markdown formatting from the generated SQL query\n",
    "        if sql_query.startswith(\"```sql\") and sql_query.endswith(\"```\"):\n",
    "            sql_query = sql_query[6:-3].strip()\n",
    "        \n",
    "        print(f\"Generated SQL Query:\\n{sql_query}\")\n",
    "        \n",
    "        # Execute the query and fetch results\n",
    "        df, error = query_database(sql_query)\n",
    "\n",
    "        if error:\n",
    "            print(f\"Error: {error}\")\n",
    "            return error\n",
    "        else:\n",
    "            return df\n",
    "    except Exception as e:\n",
    "        return str(e)"
   ]
  },
  {
   "cell_type": "markdown",
   "id": "430836d9",
   "metadata": {},
   "source": [
    "### Select all data in the database"
   ]
  },
  {
   "cell_type": "code",
   "execution_count": 8,
   "id": "feaa67da",
   "metadata": {},
   "outputs": [
    {
     "ename": "AttributeError",
     "evalue": "'str' object has no attribute 'head'",
     "output_type": "error",
     "traceback": [
      "\u001b[0;31m---------------------------------------------------------------------------\u001b[0m",
      "\u001b[0;31mAttributeError\u001b[0m                            Traceback (most recent call last)",
      "Cell \u001b[0;32mIn[8], line 8\u001b[0m\n\u001b[1;32m      5\u001b[0m result \u001b[38;5;241m=\u001b[39m langchain_sql_agent(query)\n\u001b[1;32m      7\u001b[0m \u001b[38;5;66;03m# Show the result\u001b[39;00m\n\u001b[0;32m----> 8\u001b[0m \u001b[43mresult\u001b[49m\u001b[38;5;241;43m.\u001b[39;49m\u001b[43mhead\u001b[49m()\n",
      "\u001b[0;31mAttributeError\u001b[0m: 'str' object has no attribute 'head'"
     ]
    }
   ],
   "source": [
    "# Query\n",
    "query = \"\"\"Show colums address, rooms, area, price of all data in the apartments_table!\"\"\"\n",
    "\n",
    "# Execute the agent\n",
    "result = langchain_sql_agent(query)\n",
    "\n",
    "# Show the result\n",
    "result.head()"
   ]
  },
  {
   "cell_type": "markdown",
   "id": "50138830",
   "metadata": {},
   "source": [
    "### Count the number of apartments"
   ]
  },
  {
   "cell_type": "code",
   "execution_count": null,
   "id": "adc394f1",
   "metadata": {},
   "outputs": [],
   "source": [
    "# Query\n",
    "query = \"\"\"Show the number of apartments in the apartments_table!\"\"\"\n",
    "\n",
    "# Execute the agent\n",
    "langchain_sql_agent(query)"
   ]
  },
  {
   "cell_type": "markdown",
   "id": "2a754e4c",
   "metadata": {},
   "source": [
    "### Calculate the average price of selected apartments"
   ]
  },
  {
   "cell_type": "code",
   "execution_count": null,
   "id": "f631aac5",
   "metadata": {},
   "outputs": [],
   "source": [
    "# Query\n",
    "query = \"\"\"What is the average price of apartments with \n",
    "           3.5 rooms in the apartments_table?\"\"\"\n",
    "\n",
    "# Execute the agent\n",
    "langchain_sql_agent(query)"
   ]
  },
  {
   "attachments": {},
   "cell_type": "markdown",
   "id": "ff525b1e",
   "metadata": {},
   "source": [
    "### Jupyter notebook --footer info-- (please always provide this at the end of each notebook)"
   ]
  },
  {
   "cell_type": "code",
   "execution_count": null,
   "id": "e6cae5b2",
   "metadata": {},
   "outputs": [],
   "source": [
    "import os\n",
    "import platform\n",
    "import socket\n",
    "from platform import python_version\n",
    "from datetime import datetime\n",
    "\n",
    "print('-----------------------------------')\n",
    "print(os.name.upper())\n",
    "print(platform.system(), '|', platform.release())\n",
    "print('Datetime:', datetime.now().strftime(\"%Y-%m-%d %H:%M:%S\"))\n",
    "print('Python Version:', python_version())\n",
    "print('-----------------------------------')"
   ]
  }
 ],
 "metadata": {
  "kernelspec": {
   "display_name": "Python 3",
   "language": "python",
   "name": "python3"
  },
  "language_info": {
   "codemirror_mode": {
    "name": "ipython",
    "version": 3
   },
   "file_extension": ".py",
   "mimetype": "text/x-python",
   "name": "python",
   "nbconvert_exporter": "python",
   "pygments_lexer": "ipython3",
   "version": "3.11.11"
  }
 },
 "nbformat": 4,
 "nbformat_minor": 5
}
