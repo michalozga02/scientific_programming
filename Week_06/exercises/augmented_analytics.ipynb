{
 "cells": [
  {
   "cell_type": "markdown",
   "metadata": {},
   "source": [
    "# Augmented Analytics with Python"
   ]
  },
  {
   "cell_type": "markdown",
   "metadata": {},
   "source": [
    "## Libraries and settings"
   ]
  },
  {
   "cell_type": "code",
   "execution_count": 1,
   "metadata": {},
   "outputs": [],
   "source": [
    "# Libraries\n",
    "import re\n",
    "import io\n",
    "import sys\n",
    "import json\n",
    "import openai\n",
    "import textwrap\n",
    "import subprocess\n",
    "import pandas as pd\n",
    "import matplotlib.pyplot as plt\n",
    "\n",
    "# Suppress warnings\n",
    "import warnings\n",
    "warnings.filterwarnings('ignore')\n",
    "\n",
    "# Load OpenAI API key from credentials.json\n",
    "try:\n",
    "    with open('./data/credentials.json', encoding='utf-8') as f:\n",
    "        credentials = json.load(f)\n",
    "        api_key = credentials['openai']['api_key']\n",
    "except FileNotFoundError as exc:\n",
    "    raise ValueError(\n",
    "        \"Please provide OpenAI API key in the credentials.json file.\") from exc\n",
    "\n",
    "# Set up OpenAI API key\n",
    "openai.api_key = api_key"
   ]
  },
  {
   "cell_type": "markdown",
   "metadata": {},
   "source": [
    "## Import example data"
   ]
  },
  {
   "cell_type": "code",
   "execution_count": 2,
   "metadata": {},
   "outputs": [
    {
     "data": {
      "text/html": [
       "<div>\n",
       "<style scoped>\n",
       "    .dataframe tbody tr th:only-of-type {\n",
       "        vertical-align: middle;\n",
       "    }\n",
       "\n",
       "    .dataframe tbody tr th {\n",
       "        vertical-align: top;\n",
       "    }\n",
       "\n",
       "    .dataframe thead th {\n",
       "        text-align: right;\n",
       "    }\n",
       "</style>\n",
       "<table border=\"1\" class=\"dataframe\">\n",
       "  <thead>\n",
       "    <tr style=\"text-align: right;\">\n",
       "      <th></th>\n",
       "      <th>id</th>\n",
       "      <th>address</th>\n",
       "      <th>lat</th>\n",
       "      <th>lon</th>\n",
       "      <th>municipality_number</th>\n",
       "      <th>municipality_name</th>\n",
       "      <th>rooms</th>\n",
       "      <th>area</th>\n",
       "      <th>luxurious</th>\n",
       "      <th>price</th>\n",
       "      <th>price_per_m2</th>\n",
       "      <th>population</th>\n",
       "      <th>population_density</th>\n",
       "      <th>employees</th>\n",
       "      <th>proportion_foreigners</th>\n",
       "      <th>mean_taxable_income</th>\n",
       "    </tr>\n",
       "  </thead>\n",
       "  <tbody>\n",
       "    <tr>\n",
       "      <th>0</th>\n",
       "      <td>0</td>\n",
       "      <td>Neuhusstrasse 6, 8630 Rüti ZH, ZH</td>\n",
       "      <td>47.252171</td>\n",
       "      <td>8.845797</td>\n",
       "      <td>118</td>\n",
       "      <td>Rüti (ZH)</td>\n",
       "      <td>3.0</td>\n",
       "      <td>49</td>\n",
       "      <td>0</td>\n",
       "      <td>1441</td>\n",
       "      <td>29.41</td>\n",
       "      <td>12286</td>\n",
       "      <td>1221.272366</td>\n",
       "      <td>5053</td>\n",
       "      <td>24.841283</td>\n",
       "      <td>65362.04268</td>\n",
       "    </tr>\n",
       "    <tr>\n",
       "      <th>1</th>\n",
       "      <td>1</td>\n",
       "      <td>Widacherstrasse 5, 8630 Rüti ZH, ZH</td>\n",
       "      <td>47.252087</td>\n",
       "      <td>8.854919</td>\n",
       "      <td>118</td>\n",
       "      <td>Rüti (ZH)</td>\n",
       "      <td>3.0</td>\n",
       "      <td>111</td>\n",
       "      <td>0</td>\n",
       "      <td>2600</td>\n",
       "      <td>23.42</td>\n",
       "      <td>12286</td>\n",
       "      <td>1221.272366</td>\n",
       "      <td>5053</td>\n",
       "      <td>24.841283</td>\n",
       "      <td>65362.04268</td>\n",
       "    </tr>\n",
       "    <tr>\n",
       "      <th>2</th>\n",
       "      <td>2</td>\n",
       "      <td>Widenweg 14, 8630 Rüti ZH, ZH</td>\n",
       "      <td>47.253670</td>\n",
       "      <td>8.853993</td>\n",
       "      <td>118</td>\n",
       "      <td>Rüti (ZH)</td>\n",
       "      <td>3.0</td>\n",
       "      <td>58</td>\n",
       "      <td>0</td>\n",
       "      <td>1490</td>\n",
       "      <td>25.69</td>\n",
       "      <td>12286</td>\n",
       "      <td>1221.272366</td>\n",
       "      <td>5053</td>\n",
       "      <td>24.841283</td>\n",
       "      <td>65362.04268</td>\n",
       "    </tr>\n",
       "    <tr>\n",
       "      <th>3</th>\n",
       "      <td>3</td>\n",
       "      <td>Rain 1, 8630 Rüti ZH, ZH</td>\n",
       "      <td>47.259834</td>\n",
       "      <td>8.851705</td>\n",
       "      <td>118</td>\n",
       "      <td>Rüti (ZH)</td>\n",
       "      <td>4.0</td>\n",
       "      <td>118</td>\n",
       "      <td>0</td>\n",
       "      <td>3240</td>\n",
       "      <td>27.46</td>\n",
       "      <td>12286</td>\n",
       "      <td>1221.272366</td>\n",
       "      <td>5053</td>\n",
       "      <td>24.841283</td>\n",
       "      <td>65362.04268</td>\n",
       "    </tr>\n",
       "    <tr>\n",
       "      <th>4</th>\n",
       "      <td>4</td>\n",
       "      <td>Bachtelstrasse 24b, 8630 Rüti ZH, ZH</td>\n",
       "      <td>47.266113</td>\n",
       "      <td>8.866872</td>\n",
       "      <td>118</td>\n",
       "      <td>Rüti (ZH)</td>\n",
       "      <td>3.0</td>\n",
       "      <td>66</td>\n",
       "      <td>0</td>\n",
       "      <td>1450</td>\n",
       "      <td>21.97</td>\n",
       "      <td>12286</td>\n",
       "      <td>1221.272366</td>\n",
       "      <td>5053</td>\n",
       "      <td>24.841283</td>\n",
       "      <td>65362.04268</td>\n",
       "    </tr>\n",
       "  </tbody>\n",
       "</table>\n",
       "</div>"
      ],
      "text/plain": [
       "   id                               address        lat       lon  \\\n",
       "0   0     Neuhusstrasse 6, 8630 Rüti ZH, ZH  47.252171  8.845797   \n",
       "1   1   Widacherstrasse 5, 8630 Rüti ZH, ZH  47.252087  8.854919   \n",
       "2   2         Widenweg 14, 8630 Rüti ZH, ZH  47.253670  8.853993   \n",
       "3   3              Rain 1, 8630 Rüti ZH, ZH  47.259834  8.851705   \n",
       "4   4  Bachtelstrasse 24b, 8630 Rüti ZH, ZH  47.266113  8.866872   \n",
       "\n",
       "   municipality_number municipality_name  rooms  area  luxurious  price  \\\n",
       "0                  118         Rüti (ZH)    3.0    49          0   1441   \n",
       "1                  118         Rüti (ZH)    3.0   111          0   2600   \n",
       "2                  118         Rüti (ZH)    3.0    58          0   1490   \n",
       "3                  118         Rüti (ZH)    4.0   118          0   3240   \n",
       "4                  118         Rüti (ZH)    3.0    66          0   1450   \n",
       "\n",
       "   price_per_m2  population  population_density  employees  \\\n",
       "0         29.41       12286         1221.272366       5053   \n",
       "1         23.42       12286         1221.272366       5053   \n",
       "2         25.69       12286         1221.272366       5053   \n",
       "3         27.46       12286         1221.272366       5053   \n",
       "4         21.97       12286         1221.272366       5053   \n",
       "\n",
       "   proportion_foreigners  mean_taxable_income  \n",
       "0              24.841283          65362.04268  \n",
       "1              24.841283          65362.04268  \n",
       "2              24.841283          65362.04268  \n",
       "3              24.841283          65362.04268  \n",
       "4              24.841283          65362.04268  "
      ]
     },
     "execution_count": 2,
     "metadata": {},
     "output_type": "execute_result"
    }
   ],
   "source": [
    "# Import example data\n",
    "data = pd.read_csv('./data/apartments_data.csv', sep=';')\n",
    "\n",
    "# Display the first few rows\n",
    "data.head()"
   ]
  },
  {
   "cell_type": "markdown",
   "metadata": {},
   "source": [
    "## Functions"
   ]
  },
  {
   "cell_type": "markdown",
   "metadata": {},
   "source": [
    "### Function to query GPT-3.5 for Python code"
   ]
  },
  {
   "cell_type": "code",
   "execution_count": 3,
   "metadata": {},
   "outputs": [],
   "source": [
    "# Function to query GPT-3.5 for Python code\n",
    "def query_gpt(context, question):\n",
    "    try:\n",
    "        response = openai.ChatCompletion.create(\n",
    "            model=\"gpt-3.5-turbo\",\n",
    "            messages=[\n",
    "                {\"role\": \"system\", \"content\": \"You are a coding assistant. Provide Python code based on user queries.\"},\n",
    "                {\"role\": \"user\", \"content\": f\"Context: {context}\\n\\nQuestion: {question}\\n\\nAlso, provide a short explanation of the result.\"}\n",
    "            ],\n",
    "            temperature=0,\n",
    "            max_tokens=1500\n",
    "        )\n",
    "        full_response = response.choices[0].message['content']\n",
    "\n",
    "        # Extract code block using regular expression\n",
    "        code_match = re.search(r'```python(.*?)```', full_response, re.DOTALL)\n",
    "        if code_match:\n",
    "            code = code_match.group(1).strip()\n",
    "            \n",
    "            # Ensure the plot is saved in the static folder\n",
    "            code += \"\\nplt.savefig('./data/graphic.png')\\nplt.close()\"\n",
    "            explanation = full_response.split('Explanation:')[1].strip() if 'Explanation:' in full_response else \"No explanation provided.\"\n",
    "            return code, explanation\n",
    "        else:\n",
    "            return \"No code block found in the response.\", \"No explanation provided.\"\n",
    "    except Exception as e:\n",
    "        return f\"Error querying GPT: {e}\", \"No explanation provided.\""
   ]
  },
  {
   "cell_type": "markdown",
   "metadata": {},
   "source": [
    "### Function to query llama 3.2 using Ollama"
   ]
  },
  {
   "cell_type": "code",
   "execution_count": 4,
   "metadata": {},
   "outputs": [],
   "source": [
    "# Function to query an LLM using Ollama for Python code\n",
    "def query_ollama(context, question):\n",
    "    try:\n",
    "        response = subprocess.run(\n",
    "            [\"ollama\", \"run\", \"llama3.2:latest\", f\"{context}\\n\\nQuestion: {question}\"],\n",
    "            capture_output=True, text=True\n",
    "        )\n",
    "        full_response = response.stdout.strip()\n",
    "\n",
    "        # Extract code block using regex\n",
    "        code_match = re.search(r'```python(.*?)```', full_response, re.DOTALL)\n",
    "        if code_match:\n",
    "            code = code_match.group(1).strip()\n",
    "            explanation = full_response.split('Explanation:')[1].strip() if 'Explanation:' in full_response else \"No explanation provided.\"\n",
    "            return code, explanation\n",
    "        else:\n",
    "            return \"No code block found.\", \"No explanation provided.\"\n",
    "    except Exception as e:\n",
    "        return f\"Error querying Ollama: {e}\", \"No explanation provided.\"\n",
    "    "
   ]
  },
  {
   "cell_type": "markdown",
   "metadata": {},
   "source": [
    "### Function to load a CSV file"
   ]
  },
  {
   "cell_type": "code",
   "execution_count": 5,
   "metadata": {},
   "outputs": [],
   "source": [
    "# Function to load a CSV file\n",
    "def load_csv_file(file_path, nrows=None):\n",
    "    try:\n",
    "        df = pd.read_csv(file_path, sep=';', nrows=nrows)\n",
    "        return df\n",
    "    except Exception as e:\n",
    "        print(f\"Error loading CSV file: {e}\")\n",
    "        return None"
   ]
  },
  {
   "cell_type": "markdown",
   "metadata": {},
   "source": [
    "### Function to execute Python code dynamically and capture the output"
   ]
  },
  {
   "cell_type": "code",
   "execution_count": 6,
   "metadata": {},
   "outputs": [],
   "source": [
    "# Function to execute Python code dynamically and capture the output\n",
    "def execute_python_code(code, data=None):\n",
    "    local_scope = {'plt': plt}\n",
    "    if data is not None:\n",
    "        local_scope['data'] = data\n",
    "    try:\n",
    "        # Redirect stdout to capture print statements\n",
    "        old_stdout = sys.stdout\n",
    "        sys.stdout = io.StringIO()\n",
    "        exec(code, local_scope)\n",
    "        output = sys.stdout.getvalue()\n",
    "        \n",
    "        # Reset stdout\n",
    "        sys.stdout = old_stdout\n",
    "        \n",
    "        # Save the plot if it was created\n",
    "        if plt.get_fignums():\n",
    "            plt.savefig('./data/graphic.png')\n",
    "            plt.close()\n",
    "        \n",
    "        return output.strip()\n",
    "    except Exception as e:\n",
    "        return f\"Error executing code: {e}\"\n"
   ]
  },
  {
   "cell_type": "markdown",
   "metadata": {},
   "source": [
    "## Example usage"
   ]
  },
  {
   "cell_type": "code",
   "execution_count": 7,
   "metadata": {},
   "outputs": [
    {
     "name": "stdout",
     "output_type": "stream",
     "text": [
      "Generated Python code:\n",
      "Error querying GPT: Incorrect API key provided: sk--XXXX************************************************XXXX. You can find your API key at https://platform.openai.com/account/api-keys.\n",
      "\n",
      "Explanation:\n",
      "No explanation provided.\n"
     ]
    }
   ],
   "source": [
    "# Context\n",
    "context = \"import pandas as pd\\nimport matplotlib.pyplot as plt\\ndata = \" \\\n",
    "          \"pd.read_csv('./data/apartments_data.csv', sep=';')\\n\"\n",
    "          \n",
    "# Question\n",
    "question = \"Show a histogram of the price of apartments with <= 65 m2. Use 20 bins.\"\n",
    "\n",
    "# Query the LMM\n",
    "generated_code, explanation = query_gpt(context, question)\n",
    "\n",
    "# Wrap the text to a maximum width of 80 characters\n",
    "explanation_wrapped = textwrap.fill(explanation, width=80)\n",
    "\n",
    "# Print generated code\n",
    "print(\"Generated Python code:\")\n",
    "print(generated_code)\n",
    "\n",
    "# Print explanation\n",
    "print(\"\\nExplanation:\")\n",
    "print(explanation_wrapped)\n"
   ]
  },
  {
   "cell_type": "markdown",
   "metadata": {},
   "source": [
    "## Modify the generated Python code"
   ]
  },
  {
   "cell_type": "code",
   "execution_count": 8,
   "metadata": {},
   "outputs": [
    {
     "name": "stdout",
     "output_type": "stream",
     "text": [
      "\n",
      "Modified Python code:\n",
      "Error querying GPT: Incorrect API key provided: sk--XXXX************************************************XXXX. You can find your API key at https://platform.openai.com/account/api-keys.\n"
     ]
    }
   ],
   "source": [
    "# Modify the generated code\n",
    "try:\n",
    "    generated_code = generated_code.replace(\"figsize=(10, 6)\", \n",
    "                                            \"figsize=(7, 4)\")\n",
    "    generated_code = generated_code.replace(\"color='skyblue'\", \n",
    "                                            \"color='greenyellow'\") \n",
    "except:\n",
    "    pass\n",
    "\n",
    "# Show the modified code\n",
    "print(\"\\nModified Python code:\")\n",
    "print(generated_code)"
   ]
  },
  {
   "cell_type": "markdown",
   "metadata": {},
   "source": [
    "## Execute the generated Python code"
   ]
  },
  {
   "cell_type": "code",
   "execution_count": null,
   "metadata": {},
   "outputs": [],
   "source": [
    "# Execute the generated Python code\n",
    "local_vars = {}\n",
    "figure_created = False\n",
    "try:\n",
    "    exec(generated_code, globals(), local_vars)\n",
    "except Exception as e:\n",
    "    print(f\"Error executing generated code: {e}\")\n",
    "\n",
    "# Check the type of the result and display accordingly\n",
    "for var_name, var_value in local_vars.items():\n",
    "    if isinstance(var_value, plt.Figure):\n",
    "        print(f\"\\nFigure: {var_name}\")\n",
    "        var_value.show()\n",
    "        figure_created = True\n",
    "\n",
    "if not figure_created:\n",
    "    for var_name, var_value in local_vars.items():\n",
    "        if isinstance(var_value, pd.DataFrame):\n",
    "            print(f\"\\nDataFrame: {var_name}\")\n",
    "            print(var_value.head())\n",
    "        else:\n",
    "            print(f\"\\n{var_name}: {var_value}\")"
   ]
  },
  {
   "cell_type": "markdown",
   "metadata": {},
   "source": [
    "### Jupyter notebook --footer info-- (please always provide this at the end of each notebook)"
   ]
  },
  {
   "cell_type": "code",
   "execution_count": null,
   "metadata": {},
   "outputs": [],
   "source": [
    "import os\n",
    "import platform\n",
    "import socket\n",
    "from platform import python_version\n",
    "from datetime import datetime\n",
    "\n",
    "print('-----------------------------------')\n",
    "print(os.name.upper())\n",
    "print(platform.system(), '|', platform.release())\n",
    "print('Datetime:', datetime.now().strftime(\"%Y-%m-%d %H:%M:%S\"))\n",
    "print('Python Version:', python_version())\n",
    "print('-----------------------------------')"
   ]
  }
 ],
 "metadata": {
  "kernelspec": {
   "display_name": "Python 3",
   "language": "python",
   "name": "python3"
  },
  "language_info": {
   "codemirror_mode": {
    "name": "ipython",
    "version": 3
   },
   "file_extension": ".py",
   "mimetype": "text/x-python",
   "name": "python",
   "nbconvert_exporter": "python",
   "pygments_lexer": "ipython3",
   "version": "3.11.11"
  }
 },
 "nbformat": 4,
 "nbformat_minor": 2
}
