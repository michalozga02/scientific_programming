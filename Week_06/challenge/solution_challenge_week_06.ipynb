{
 "cells": [
  {
   "cell_type": "markdown",
   "metadata": {},
   "source": [
    "# Using an LLM to automate price extraction and analysis of smartphone data"
   ]
  },
  {
   "cell_type": "markdown",
   "metadata": {},
   "source": [
    "## Libraries and settings"
   ]
  },
  {
   "cell_type": "code",
   "execution_count": 1,
   "metadata": {},
   "outputs": [],
   "source": [
    "# Libraries\n",
    "import re\n",
    "import io\n",
    "import sys\n",
    "import json\n",
    "import openai\n",
    "import textwrap\n",
    "import subprocess\n",
    "import pandas as pd\n",
    "import matplotlib.pyplot as plt\n",
    "\n",
    "# Suppress warnings\n",
    "import warnings\n",
    "warnings.filterwarnings('ignore')\n",
    "\n",
    "# Load OpenAI API key from credentials.json\n",
    "try:\n",
    "    with open('./data/credentials.json', encoding='utf-8') as f:\n",
    "        credentials = json.load(f)\n",
    "        api_key = credentials['openai']['api_key']\n",
    "except FileNotFoundError as exc:\n",
    "    raise ValueError(\n",
    "        \"Please provide OpenAI API key in the credentials.json file.\") from exc\n",
    "\n",
    "# Set up OpenAI API key\n",
    "openai.api_key = api_key"
   ]
  },
  {
   "cell_type": "markdown",
   "metadata": {},
   "source": [
    "## Import smartphone data"
   ]
  },
  {
   "cell_type": "code",
   "execution_count": 2,
   "metadata": {},
   "outputs": [
    {
     "data": {
      "text/html": [
       "<div>\n",
       "<style scoped>\n",
       "    .dataframe tbody tr th:only-of-type {\n",
       "        vertical-align: middle;\n",
       "    }\n",
       "\n",
       "    .dataframe tbody tr th {\n",
       "        vertical-align: top;\n",
       "    }\n",
       "\n",
       "    .dataframe thead th {\n",
       "        text-align: right;\n",
       "    }\n",
       "</style>\n",
       "<table border=\"1\" class=\"dataframe\">\n",
       "  <thead>\n",
       "    <tr style=\"text-align: right;\">\n",
       "      <th></th>\n",
       "      <th>offer_id</th>\n",
       "      <th>dealer_plz</th>\n",
       "      <th>dealer_city</th>\n",
       "      <th>dealer_street_house_nr</th>\n",
       "      <th>make</th>\n",
       "      <th>model</th>\n",
       "      <th>price_raw</th>\n",
       "      <th>camera_resolution_raw</th>\n",
       "      <th>battery_life_raw</th>\n",
       "      <th>storage_size_raw</th>\n",
       "      <th>screen_size_raw</th>\n",
       "      <th>description_raw</th>\n",
       "    </tr>\n",
       "  </thead>\n",
       "  <tbody>\n",
       "    <tr>\n",
       "      <th>0</th>\n",
       "      <td>83197857</td>\n",
       "      <td>6394</td>\n",
       "      <td>Volketswil</td>\n",
       "      <td>Blaserstrasse 19</td>\n",
       "      <td>Apple</td>\n",
       "      <td>iPhone 13</td>\n",
       "      <td>CHF 2518.-</td>\n",
       "      <td>20 MP</td>\n",
       "      <td>16 hrs</td>\n",
       "      <td>256 GB</td>\n",
       "      <td>6.1 IN</td>\n",
       "      <td>Langlebige Batterie mit Schnellladefunktion, d...</td>\n",
       "    </tr>\n",
       "    <tr>\n",
       "      <th>1</th>\n",
       "      <td>36687537</td>\n",
       "      <td>9532</td>\n",
       "      <td>Oberwil</td>\n",
       "      <td>Furrerstrasse 1</td>\n",
       "      <td>Vivo</td>\n",
       "      <td>Vivo V21</td>\n",
       "      <td>CHF 266.-</td>\n",
       "      <td>12 MP</td>\n",
       "      <td>16 hrs</td>\n",
       "      <td>128 GB</td>\n",
       "      <td>5.8 IN</td>\n",
       "      <td>Modernste Gesichtserkennungstechnologie für Si...</td>\n",
       "    </tr>\n",
       "    <tr>\n",
       "      <th>2</th>\n",
       "      <td>66722344</td>\n",
       "      <td>2227</td>\n",
       "      <td>Rüti</td>\n",
       "      <td>Maierstrasse 31</td>\n",
       "      <td>Vivo</td>\n",
       "      <td>Vivo V21</td>\n",
       "      <td>CHF 424.-</td>\n",
       "      <td>12 MP</td>\n",
       "      <td>20 hrs</td>\n",
       "      <td>256 GB</td>\n",
       "      <td>5.8 IN</td>\n",
       "      <td>Ultra-HD-Display für eine atemberaubende Bildq...</td>\n",
       "    </tr>\n",
       "    <tr>\n",
       "      <th>3</th>\n",
       "      <td>56164955</td>\n",
       "      <td>5766</td>\n",
       "      <td>Bülach</td>\n",
       "      <td>Sidlerstrasse 6</td>\n",
       "      <td>Google</td>\n",
       "      <td>Pixel 6a</td>\n",
       "      <td>CHF 597.-</td>\n",
       "      <td>12 MP</td>\n",
       "      <td>25 hrs</td>\n",
       "      <td>64 GB</td>\n",
       "      <td>5.8 IN</td>\n",
       "      <td>Mit Stiftunterstützung für Kreativität und Prä...</td>\n",
       "    </tr>\n",
       "    <tr>\n",
       "      <th>4</th>\n",
       "      <td>94374605</td>\n",
       "      <td>8304</td>\n",
       "      <td>Belp</td>\n",
       "      <td>Steinerstrasse 8</td>\n",
       "      <td>Google</td>\n",
       "      <td>Pixel 6</td>\n",
       "      <td>CHF 1934.-</td>\n",
       "      <td>20 MP</td>\n",
       "      <td>23 hrs</td>\n",
       "      <td>64 GB</td>\n",
       "      <td>5.8 IN</td>\n",
       "      <td>Aufgeteilt in benutzerfreundliche Kategorien f...</td>\n",
       "    </tr>\n",
       "  </tbody>\n",
       "</table>\n",
       "</div>"
      ],
      "text/plain": [
       "   offer_id  dealer_plz dealer_city dealer_street_house_nr    make      model  \\\n",
       "0  83197857        6394  Volketswil       Blaserstrasse 19   Apple  iPhone 13   \n",
       "1  36687537        9532     Oberwil        Furrerstrasse 1    Vivo   Vivo V21   \n",
       "2  66722344        2227        Rüti        Maierstrasse 31    Vivo   Vivo V21   \n",
       "3  56164955        5766      Bülach        Sidlerstrasse 6  Google   Pixel 6a   \n",
       "4  94374605        8304        Belp       Steinerstrasse 8  Google    Pixel 6   \n",
       "\n",
       "    price_raw camera_resolution_raw battery_life_raw storage_size_raw  \\\n",
       "0  CHF 2518.-                 20 MP           16 hrs           256 GB   \n",
       "1   CHF 266.-                 12 MP           16 hrs           128 GB   \n",
       "2   CHF 424.-                 12 MP           20 hrs           256 GB   \n",
       "3   CHF 597.-                 12 MP           25 hrs            64 GB   \n",
       "4  CHF 1934.-                 20 MP           23 hrs            64 GB   \n",
       "\n",
       "  screen_size_raw                                    description_raw  \n",
       "0          6.1 IN  Langlebige Batterie mit Schnellladefunktion, d...  \n",
       "1          5.8 IN  Modernste Gesichtserkennungstechnologie für Si...  \n",
       "2          5.8 IN  Ultra-HD-Display für eine atemberaubende Bildq...  \n",
       "3          5.8 IN  Mit Stiftunterstützung für Kreativität und Prä...  \n",
       "4          5.8 IN  Aufgeteilt in benutzerfreundliche Kategorien f...  "
      ]
     },
     "execution_count": 2,
     "metadata": {},
     "output_type": "execute_result"
    }
   ],
   "source": [
    "# Import smartphone data\n",
    "data = pd.read_csv('./data/smartphone_data.csv', sep=';')\n",
    "\n",
    "# Display the first few rows\n",
    "data.head()"
   ]
  },
  {
   "cell_type": "markdown",
   "metadata": {},
   "source": [
    "## Functions"
   ]
  },
  {
   "cell_type": "markdown",
   "metadata": {},
   "source": [
    "### Function to query GPT-3.5 for Python code"
   ]
  },
  {
   "cell_type": "code",
   "execution_count": 3,
   "metadata": {},
   "outputs": [],
   "source": [
    "# Function to query GPT-3.5 for Python code\n",
    "def query_gpt(context, question):\n",
    "    try:\n",
    "        response = openai.ChatCompletion.create(\n",
    "            model=\"gpt-4-turbo\",\n",
    "            messages=[\n",
    "                {\"role\": \"system\", \"content\": \"You are a coding assistant. Provide Python code based on user queries.\"},\n",
    "                {\"role\": \"user\", \"content\": f\"Context: {context}\\n\\nQuestion: {question}\\n\\nAlso, provide a short explanation of the result.\"}\n",
    "            ],\n",
    "            temperature=0,\n",
    "            max_tokens=1500\n",
    "        )\n",
    "        full_response = response.choices[0].message['content']\n",
    "\n",
    "        # Extract code block using regular expression\n",
    "        code_match = re.search(r'```python(.*?)```', full_response, re.DOTALL)\n",
    "        if code_match:\n",
    "            code = code_match.group(1).strip()\n",
    "            \n",
    "            # Ensure the plot is saved in the static folder\n",
    "            code += \"\\nplt.savefig('./data/graphic.png')\\nplt.close()\"\n",
    "            explanation = full_response.split('Explanation:')[1].strip() if 'Explanation:' in full_response else \"No explanation provided.\"\n",
    "            return code, explanation\n",
    "        else:\n",
    "            return \"No code block found in the response.\", \"No explanation provided.\"\n",
    "    except Exception as e:\n",
    "        return f\"Error querying GPT: {e}\", \"No explanation provided.\""
   ]
  },
  {
   "cell_type": "markdown",
   "metadata": {},
   "source": [
    "### Function to query llama 3.2 using Ollama"
   ]
  },
  {
   "cell_type": "code",
   "execution_count": 4,
   "metadata": {},
   "outputs": [],
   "source": [
    "# Function to query an LLM using Ollama for Python code\n",
    "def query_ollama(context, question):\n",
    "    try:\n",
    "        response = subprocess.run(\n",
    "            [\"ollama\", \"run\", \"llama3.2:latest\", f\"{context}\\n\\nQuestion: {question}\"],\n",
    "            capture_output=True, text=True\n",
    "        )\n",
    "        full_response = response.stdout.strip()\n",
    "\n",
    "        # Extract code block using regex\n",
    "        code_match = re.search(r'```python(.*?)```', full_response, re.DOTALL)\n",
    "        if code_match:\n",
    "            code = code_match.group(1).strip()\n",
    "            explanation = full_response.split('Explanation:')[1].strip() if 'Explanation:' in full_response else \"No explanation provided.\"\n",
    "            return code, explanation\n",
    "        else:\n",
    "            return \"No code block found.\", \"No explanation provided.\"\n",
    "    except Exception as e:\n",
    "        return f\"Error querying Ollama: {e}\", \"No explanation provided.\""
   ]
  },
  {
   "cell_type": "markdown",
   "metadata": {},
   "source": [
    "### Function to load a CSV file"
   ]
  },
  {
   "cell_type": "code",
   "execution_count": 5,
   "metadata": {},
   "outputs": [],
   "source": [
    "# Function to load a CSV file\n",
    "def load_csv_file(file_path, nrows=None):\n",
    "    try:\n",
    "        df = pd.read_csv(file_path, sep=';', nrows=nrows)\n",
    "        return df\n",
    "    except Exception as e:\n",
    "        print(f\"Error loading CSV file: {e}\")\n",
    "        return None"
   ]
  },
  {
   "cell_type": "markdown",
   "metadata": {},
   "source": [
    "### Function to execute Python code dynamically and capture the output"
   ]
  },
  {
   "cell_type": "code",
   "execution_count": 6,
   "metadata": {},
   "outputs": [],
   "source": [
    "# Function to execute Python code dynamically and capture the output\n",
    "def execute_python_code(code, data=None):\n",
    "    local_scope = {'plt': plt}\n",
    "    if data is not None:\n",
    "        local_scope['data'] = data\n",
    "    try:\n",
    "        # Redirect stdout to capture print statements\n",
    "        old_stdout = sys.stdout\n",
    "        sys.stdout = io.StringIO()\n",
    "        exec(code, local_scope)\n",
    "        output = sys.stdout.getvalue()\n",
    "        \n",
    "        # Reset stdout\n",
    "        sys.stdout = old_stdout\n",
    "        \n",
    "        # Save the plot if it was created\n",
    "        if plt.get_fignums():\n",
    "            plt.savefig('./data/graphic.png')\n",
    "            plt.close()\n",
    "        \n",
    "        return output.strip()\n",
    "    except Exception as e:\n",
    "        return f\"Error executing code: {e}\""
   ]
  },
  {
   "cell_type": "markdown",
   "metadata": {},
   "source": [
    "## Provide context and question"
   ]
  },
  {
   "cell_type": "code",
   "execution_count": 9,
   "metadata": {},
   "outputs": [
    {
     "name": "stdout",
     "output_type": "stream",
     "text": [
      "Generated Python code:\n",
      "import pandas as pd\n",
      "import matplotlib.pyplot as plt\n",
      "\n",
      "# Load the data\n",
      "data = pd.read_csv('./data/smartphone_data.csv', sep=';')\n",
      "\n",
      "# Extract numeric prices from 'price_raw' column\n",
      "data['price'] = data['price_raw'].replace('[^\\d.]', '', regex=True).astype(float)\n",
      "\n",
      "# Calculate average price by make\n",
      "average_price_by_make = data.groupby('make')['price'].mean().sort_values(ascending=False)\n",
      "\n",
      "# Create a horizontal bar chart\n",
      "plt.figure(figsize=(7, 4))\n",
      "average_price_by_make.plot(kind='barh', color='steelblue')\n",
      "plt.xlabel('Average Price')\n",
      "plt.ylabel('Make')\n",
      "plt.title('Average Smartphone Price by Make')\n",
      "plt.gca().invert_yaxis()  # To display the highest price on top\n",
      "plt.show()\n",
      "plt.savefig('./data/graphic.png')\n",
      "plt.close()\n",
      "\n",
      "Explanation:\n",
      "No explanation provided.\n"
     ]
    }
   ],
   "source": [
    "# Context\n",
    "context = \"import pandas as pd\\nimport matplotlib.pyplot as plt\\ndata = \" \\\n",
    "          \"pd.read_csv('./data/smartphone_data.csv', sep=';')\\n\"\n",
    "          \n",
    "# Question\n",
    "question = \"\"\"Extract smartphone prices from the 'price_raw' column. \n",
    "              Create a horizontal bar chart showing average price by make, with \n",
    "              make on the vertical axis and prices on the horizontal axis. Sort \n",
    "              average prices in descending order. Use steelblue color for the bars \n",
    "              and set the figure dimensions to 7x4 inches.\"\"\"\n",
    "\n",
    "# Query the LMM\n",
    "generated_code, explanation = query_gpt(context, question)\n",
    "\n",
    "# Wrap the text to a maximum width of 80 characters\n",
    "explanation_wrapped = textwrap.fill(explanation, width=80)\n",
    "\n",
    "# Print generated code\n",
    "print(\"Generated Python code:\")\n",
    "print(generated_code)\n",
    "\n",
    "# Print explanation\n",
    "print(\"\\nExplanation:\")\n",
    "print(explanation_wrapped)"
   ]
  },
  {
   "cell_type": "markdown",
   "metadata": {},
   "source": [
    "## Execute the generated Python code"
   ]
  },
  {
   "cell_type": "code",
   "execution_count": 10,
   "metadata": {},
   "outputs": [
    {
     "data": {
      "image/png": "[encoded data removed]",
      "text/plain": [
       "<Figure size 700x400 with 1 Axes>"
      ]
     },
     "metadata": {},
     "output_type": "display_data"
    },
    {
     "name": "stdout",
     "output_type": "stream",
     "text": [
      "\n",
      "pd: <module 'pandas' from 'c:\\\\Users\\\\gell\\\\AppData\\\\Local\\\\anaconda3\\\\envs\\\\spenv\\\\Lib\\\\site-packages\\\\pandas\\\\__init__.py'>\n",
      "\n",
      "plt: <module 'matplotlib.pyplot' from 'c:\\\\Users\\\\gell\\\\AppData\\\\Local\\\\anaconda3\\\\envs\\\\spenv\\\\Lib\\\\site-packages\\\\matplotlib\\\\pyplot.py'>\n",
      "\n",
      "DataFrame: data\n",
      "   offer_id  dealer_plz dealer_city dealer_street_house_nr    make      model  \\\n",
      "0  83197857        6394  Volketswil       Blaserstrasse 19   Apple  iPhone 13   \n",
      "1  36687537        9532     Oberwil        Furrerstrasse 1    Vivo   Vivo V21   \n",
      "2  66722344        2227        Rüti        Maierstrasse 31    Vivo   Vivo V21   \n",
      "3  56164955        5766      Bülach        Sidlerstrasse 6  Google   Pixel 6a   \n",
      "4  94374605        8304        Belp       Steinerstrasse 8  Google    Pixel 6   \n",
      "\n",
      "    price_raw camera_resolution_raw battery_life_raw storage_size_raw  \\\n",
      "0  CHF 2518.-                 20 MP           16 hrs           256 GB   \n",
      "1   CHF 266.-                 12 MP           16 hrs           128 GB   \n",
      "2   CHF 424.-                 12 MP           20 hrs           256 GB   \n",
      "3   CHF 597.-                 12 MP           25 hrs            64 GB   \n",
      "4  CHF 1934.-                 20 MP           23 hrs            64 GB   \n",
      "\n",
      "  screen_size_raw                                    description_raw   price  \n",
      "0          6.1 IN  Langlebige Batterie mit Schnellladefunktion, d...  2518.0  \n",
      "1          5.8 IN  Modernste Gesichtserkennungstechnologie für Si...   266.0  \n",
      "2          5.8 IN  Ultra-HD-Display für eine atemberaubende Bildq...   424.0  \n",
      "3          5.8 IN  Mit Stiftunterstützung für Kreativität und Prä...   597.0  \n",
      "4          5.8 IN  Aufgeteilt in benutzerfreundliche Kategorien f...  1934.0  \n",
      "\n",
      "average_price_by_make: make\n",
      "Apple      2120.237389\n",
      "Google     1583.306186\n",
      "Samsung    1343.228516\n",
      "Xiaomi     1058.124877\n",
      "Vivo        842.754601\n",
      "Name: price, dtype: float64\n"
     ]
    }
   ],
   "source": [
    "# Execute the generated Python code\n",
    "local_vars = {}\n",
    "figure_created = False\n",
    "try:\n",
    "    exec(generated_code, globals(), local_vars)\n",
    "except Exception as e:\n",
    "    print(f\"Error executing generated code: {e}\")\n",
    "\n",
    "# Check the type of the result and display accordingly\n",
    "for var_name, var_value in local_vars.items():\n",
    "    if isinstance(var_value, plt.Figure):\n",
    "        print(f\"\\nFigure: {var_name}\")\n",
    "        var_value.show()\n",
    "        figure_created = True\n",
    "\n",
    "if not figure_created:\n",
    "    for var_name, var_value in local_vars.items():\n",
    "        if isinstance(var_value, pd.DataFrame):\n",
    "            print(f\"\\nDataFrame: {var_name}\")\n",
    "            print(var_value.head())\n",
    "        else:\n",
    "            print(f\"\\n{var_name}: {var_value}\")"
   ]
  }
 ],
 "metadata": {
  "kernelspec": {
   "display_name": "spenv",
   "language": "python",
   "name": "python3"
  },
  "language_info": {
   "codemirror_mode": {
    "name": "ipython",
    "version": 3
   },
   "file_extension": ".py",
   "mimetype": "text/x-python",
   "name": "python",
   "nbconvert_exporter": "python",
   "pygments_lexer": "ipython3",
   "version": "3.11.10"
  }
 },
 "nbformat": 4,
 "nbformat_minor": 2
}
