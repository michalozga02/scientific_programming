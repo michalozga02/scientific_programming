{
 "cells": [
  {
   "cell_type": "markdown",
   "metadata": {},
   "source": [
    "# Web Scraping Rental Apartment Data with Python and Beautifulsoup\n",
    "\n",
    "Data from: https://www.immoscout24.ch/de/immobilien/mieten/ort-zuerich?pn=1"
   ]
  },
  {
   "cell_type": "markdown",
   "metadata": {},
   "source": [
    "## Libraries and settings"
   ]
  },
  {
   "cell_type": "code",
   "execution_count": 1,
   "metadata": {},
   "outputs": [],
   "source": [
    "import requests\n",
    "import pandas as pd\n",
    "from bs4 import BeautifulSoup\n",
    "import matplotlib.pyplot as plt"
   ]
  },
  {
   "cell_type": "markdown",
   "metadata": {},
   "source": [
    "## Example of scraping data from a website with BeautifulSoup"
   ]
  },
  {
   "cell_type": "code",
   "execution_count": 2,
   "metadata": {},
   "outputs": [
    {
     "data": {
      "text/plain": [
       "[<div class=\"HgListingRoomsLivingSpacePrice_roomsLivingSpacePrice_M6Ktp\"><strong>6.5 Zimmer</strong><span>, </span><strong title=\"Wohnfläche\">150m²</strong><span class=\"HgListingRoomsLivingSpacePrice_commaPrice_mXXpt\">,</span><span class=\"HgListingRoomsLivingSpacePrice_price_u9Vee\"> CHF 6’320.– <!-- --><!-- --></span></div>,\n",
       " <div class=\"HgListingRoomsLivingSpacePrice_roomsLivingSpacePrice_M6Ktp\"><strong>6.5 Zimmer</strong><span>, </span><strong title=\"Wohnfläche\">180m²</strong><span class=\"HgListingRoomsLivingSpacePrice_commaPrice_mXXpt\">,</span><span class=\"HgListingRoomsLivingSpacePrice_price_u9Vee\"> CHF 7’200.– <!-- --><!-- --></span></div>,\n",
       " <div class=\"HgListingRoomsLivingSpacePrice_roomsLivingSpacePrice_M6Ktp\"><strong>4.5 Zimmer</strong><span>, </span><strong title=\"Wohnfläche\">114m²</strong><span class=\"HgListingRoomsLivingSpacePrice_commaPrice_mXXpt\">,</span><span class=\"HgListingRoomsLivingSpacePrice_price_u9Vee\"> CHF 3’810.– <!-- --><!-- --></span></div>,\n",
       " <div class=\"HgListingRoomsLivingSpacePrice_roomsLivingSpacePrice_M6Ktp\"><strong>8.5 Zimmer</strong><span>, </span><strong title=\"Wohnfläche\">180m²</strong><span class=\"HgListingRoomsLivingSpacePrice_commaPrice_mXXpt\">,</span><span class=\"HgListingRoomsLivingSpacePrice_price_u9Vee\"> CHF 7’080.– <!-- --><!-- --></span></div>,\n",
       " <div class=\"HgListingRoomsLivingSpacePrice_roomsLivingSpacePrice_M6Ktp\"><strong>5.5 Zimmer</strong><span>, </span><strong title=\"Wohnfläche\">148m²</strong><span class=\"HgListingRoomsLivingSpacePrice_commaPrice_mXXpt\">,</span><span class=\"HgListingRoomsLivingSpacePrice_price_u9Vee\"> CHF 5’830.– <!-- --><!-- --></span></div>,\n",
       " <div class=\"HgListingRoomsLivingSpacePrice_roomsLivingSpacePrice_M6Ktp\"><strong>5.5 Zimmer</strong><span>, </span><strong title=\"Wohnfläche\">140m²</strong><span class=\"HgListingRoomsLivingSpacePrice_commaPrice_mXXpt\">,</span><span class=\"HgListingRoomsLivingSpacePrice_price_u9Vee\"> CHF 7’140.– <!-- --><!-- --></span></div>,\n",
       " <div class=\"HgListingRoomsLivingSpacePrice_roomsLivingSpacePrice_M6Ktp\"><strong>2.5 Zimmer</strong><span>, </span><strong title=\"Wohnfläche\">77m²</strong><span class=\"HgListingRoomsLivingSpacePrice_commaPrice_mXXpt\">,</span><span class=\"HgListingRoomsLivingSpacePrice_price_u9Vee\"> CHF 3’500.– <!-- --><!-- --></span></div>,\n",
       " <div class=\"HgListingRoomsLivingSpacePrice_roomsLivingSpacePrice_M6Ktp\"><strong>5.5 Zimmer</strong><span>, </span><strong title=\"Wohnfläche\">135m²</strong><span class=\"HgListingRoomsLivingSpacePrice_commaPrice_mXXpt\">,</span><span class=\"HgListingRoomsLivingSpacePrice_price_u9Vee\"> CHF 4’980.– <!-- --><!-- --></span></div>,\n",
       " <div class=\"HgListingRoomsLivingSpacePrice_roomsLivingSpacePrice_M6Ktp\"><strong>4.5 Zimmer</strong><span>, </span><strong title=\"Wohnfläche\">113m²</strong><span class=\"HgListingRoomsLivingSpacePrice_commaPrice_mXXpt\">,</span><span class=\"HgListingRoomsLivingSpacePrice_price_u9Vee\"> CHF 4’480.– <!-- --><!-- --></span></div>,\n",
       " <div class=\"HgListingRoomsLivingSpacePrice_roomsLivingSpacePrice_M6Ktp\"><strong>4.5 Zimmer</strong><span>, </span><strong title=\"Wohnfläche\">147m²</strong><span class=\"HgListingRoomsLivingSpacePrice_commaPrice_mXXpt\">,</span><span class=\"HgListingRoomsLivingSpacePrice_price_u9Vee\"> CHF 5’230.– <!-- --><!-- --></span></div>]"
      ]
     },
     "execution_count": 2,
     "metadata": {},
     "output_type": "execute_result"
    }
   ],
   "source": [
    "# Send a GET request to the input URL\n",
    "response = requests.get('https://www.immoscout24.ch/de/immobilien/mieten/ort-zuerich?pn=1')\n",
    "\n",
    "# Parse the content of the request with BeautifulSoup\n",
    "soup = BeautifulSoup(response.content, 'html.parser')\n",
    "\n",
    "# Extract the listings from the parsed content\n",
    "# 'div' is the HTML tag (division) of the element that contains the listings\n",
    "# 'class_' is the CSS class of the element that contains the listings\n",
    "listings = soup.find_all('div', class_='HgListingRoomsLivingSpacePrice_roomsLivingSpacePrice_M6Ktp')\n",
    "\n",
    "# Show first 10 listings\n",
    "listings[0:10]\n"
   ]
  },
  {
   "cell_type": "markdown",
   "metadata": {},
   "source": [
    "## Web Scraper function"
   ]
  },
  {
   "cell_type": "code",
   "execution_count": 3,
   "metadata": {},
   "outputs": [],
   "source": [
    "# Function to extract the listings from a given URL\n",
    "def extract_listing_info(url):\n",
    "\n",
    "    # Send a GET request to the input URL\n",
    "    response = requests.get(url)\n",
    "\n",
    "    # Parse the content of the request with BeautifulSoup\n",
    "    soup = BeautifulSoup(response.content, 'html.parser')\n",
    "    \n",
    "    # Extract the listings from the parsed content\n",
    "    listings = soup.find_all('div', class_='HgListingCard_info_RKrwz')\n",
    "    \n",
    "    # Initialize an empty list to store the extracted data\n",
    "    extracted_data = []\n",
    "    \n",
    "    # Loop through the listings and extract the required information\n",
    "    for listing in listings:\n",
    "        # Extract address\n",
    "        address_tag = listing.find('address')\n",
    "        address = address_tag.text.strip() if address_tag else 'N/A'\n",
    "\n",
    "        # Extract rooms, living area, and price\n",
    "        info_section = listing.find('div', class_='HgListingRoomsLivingSpacePrice_roomsLivingSpacePrice_M6Ktp')\n",
    "        if info_section:\n",
    "            info_text = [strong.text.strip() for strong in info_section.find_all('strong')]\n",
    "            rooms = info_text[0] if len(info_text) > 0 else 'N/A'\n",
    "            living_area = info_text[1] if len(info_text) > 1 else 'N/A'\n",
    "            price_tag = info_section.find('span', class_='HgListingRoomsLivingSpacePrice_price_u9Vee')\n",
    "            price = price_tag.text.strip() if price_tag else 'N/A'\n",
    "        else:\n",
    "            rooms, living_area, price = 'N/A', 'N/A', 'N/A'\n",
    "\n",
    "        # Extract title and description\n",
    "        title_tag = listing.find('p', class_='HgListingDescription_title_NAAxy')\n",
    "        title = title_tag.text.strip() if title_tag else 'N/A'\n",
    "\n",
    "        description_tag = listing.find('p', class_='HgListingDescription_large_uKs3J')\n",
    "        description = description_tag.text.strip() if description_tag else 'N/A'\n",
    "\n",
    "        # Append extracted data to the list\n",
    "        extracted_data.append({\n",
    "            'address_raw': address,\n",
    "            'rooms_raw': rooms,\n",
    "            'area_raw': living_area,\n",
    "            'price_raw': price,\n",
    "            'title_raw': title,\n",
    "            'description_raw': description\n",
    "        })\n",
    "    \n",
    "    # Return the extracted data\n",
    "    return extracted_data\n"
   ]
  },
  {
   "cell_type": "markdown",
   "metadata": {},
   "source": [
    "## Call the Web Scraper function to get apartment data from the 1st page"
   ]
  },
  {
   "cell_type": "code",
   "execution_count": 4,
   "metadata": {},
   "outputs": [
    {
     "data": {
      "text/html": [
       "<div>\n",
       "<style scoped>\n",
       "    .dataframe tbody tr th:only-of-type {\n",
       "        vertical-align: middle;\n",
       "    }\n",
       "\n",
       "    .dataframe tbody tr th {\n",
       "        vertical-align: top;\n",
       "    }\n",
       "\n",
       "    .dataframe thead th {\n",
       "        text-align: right;\n",
       "    }\n",
       "</style>\n",
       "<table border=\"1\" class=\"dataframe\">\n",
       "  <thead>\n",
       "    <tr style=\"text-align: right;\">\n",
       "      <th></th>\n",
       "      <th>address_raw</th>\n",
       "      <th>rooms_raw</th>\n",
       "      <th>area_raw</th>\n",
       "      <th>price_raw</th>\n",
       "      <th>title_raw</th>\n",
       "      <th>description_raw</th>\n",
       "    </tr>\n",
       "  </thead>\n",
       "  <tbody>\n",
       "    <tr>\n",
       "      <th>0</th>\n",
       "      <td>Weidmannstrasse 13, 8046 Zürich</td>\n",
       "      <td>6.5 Zimmer</td>\n",
       "      <td>150m²</td>\n",
       "      <td>CHF 6’320.–</td>\n",
       "      <td>Luxuriöse 6.5-Zimmerwohnung mit großzügigem Ga...</td>\n",
       "      <td>Moderne und wunderschöne 6.5-Zimmerwohnung mit...</td>\n",
       "    </tr>\n",
       "    <tr>\n",
       "      <th>1</th>\n",
       "      <td>Bucheggstrasse 130, 8057 Zürich</td>\n",
       "      <td>6.5 Zimmer</td>\n",
       "      <td>180m²</td>\n",
       "      <td>CHF 7’200.–</td>\n",
       "      <td>Modernes wohnen am Bucheggplatz!</td>\n",
       "      <td>N/A</td>\n",
       "    </tr>\n",
       "    <tr>\n",
       "      <th>2</th>\n",
       "      <td>Hagenholzstrasse 55, 8050 Zürich</td>\n",
       "      <td>4.5 Zimmer</td>\n",
       "      <td>114m²</td>\n",
       "      <td>CHF 3’810.–</td>\n",
       "      <td>MIETEN OHNE KAUTION - Tower fifty five - metro...</td>\n",
       "      <td>N/A</td>\n",
       "    </tr>\n",
       "    <tr>\n",
       "      <th>3</th>\n",
       "      <td>Käferholzstrasse 48, 8057 Zürich</td>\n",
       "      <td>8.5 Zimmer</td>\n",
       "      <td>180m²</td>\n",
       "      <td>CHF 7’080.–</td>\n",
       "      <td>Modernes Wohnen im Guggachpark</td>\n",
       "      <td>N/A</td>\n",
       "    </tr>\n",
       "    <tr>\n",
       "      <th>4</th>\n",
       "      <td>Anna-Heer-Strasse 14, 8057 Zürich</td>\n",
       "      <td>5.5 Zimmer</td>\n",
       "      <td>148m²</td>\n",
       "      <td>CHF 5’830.–</td>\n",
       "      <td>5.5 Zimmerwohnung in Zürich</td>\n",
       "      <td>An der Anna-Heer-Strasse in Zürich entstehen m...</td>\n",
       "    </tr>\n",
       "  </tbody>\n",
       "</table>\n",
       "</div>"
      ],
      "text/plain": [
       "                         address_raw   rooms_raw area_raw    price_raw  \\\n",
       "0    Weidmannstrasse 13, 8046 Zürich  6.5 Zimmer    150m²  CHF 6’320.–   \n",
       "1    Bucheggstrasse 130, 8057 Zürich  6.5 Zimmer    180m²  CHF 7’200.–   \n",
       "2   Hagenholzstrasse 55, 8050 Zürich  4.5 Zimmer    114m²  CHF 3’810.–   \n",
       "3   Käferholzstrasse 48, 8057 Zürich  8.5 Zimmer    180m²  CHF 7’080.–   \n",
       "4  Anna-Heer-Strasse 14, 8057 Zürich  5.5 Zimmer    148m²  CHF 5’830.–   \n",
       "\n",
       "                                           title_raw  \\\n",
       "0  Luxuriöse 6.5-Zimmerwohnung mit großzügigem Ga...   \n",
       "1                   Modernes wohnen am Bucheggplatz!   \n",
       "2  MIETEN OHNE KAUTION - Tower fifty five - metro...   \n",
       "3                     Modernes Wohnen im Guggachpark   \n",
       "4                        5.5 Zimmerwohnung in Zürich   \n",
       "\n",
       "                                     description_raw  \n",
       "0  Moderne und wunderschöne 6.5-Zimmerwohnung mit...  \n",
       "1                                                N/A  \n",
       "2                                                N/A  \n",
       "3                                                N/A  \n",
       "4  An der Anna-Heer-Strasse in Zürich entstehen m...  "
      ]
     },
     "execution_count": 4,
     "metadata": {},
     "output_type": "execute_result"
    }
   ],
   "source": [
    "# Scrape 1st page\n",
    "url = 'https://www.immoscout24.ch/de/immobilien/mieten/ort-zuerich?pn=1'\n",
    "\n",
    "# Extract listing information to a list object 'data'\n",
    "data = extract_listing_info(url)\n",
    "\n",
    "# Create DataFrame from 'data'\n",
    "df = pd.DataFrame(data)\n",
    "\n",
    "# Show the first few rows of the DataFrame\n",
    "df.head()"
   ]
  },
  {
   "cell_type": "markdown",
   "metadata": {},
   "source": [
    "## Call the Web Scraper function to get apartment data from multiple pages"
   ]
  },
  {
   "cell_type": "code",
   "execution_count": 5,
   "metadata": {},
   "outputs": [
    {
     "name": "stdout",
     "output_type": "stream",
     "text": [
      "Scraping https://www.immoscout24.ch/de/immobilien/mieten/ort-zuerich?pn=1...\n",
      "Scraping https://www.immoscout24.ch/de/immobilien/mieten/ort-zuerich?pn=2...\n",
      "Scraping https://www.immoscout24.ch/de/immobilien/mieten/ort-zuerich?pn=3...\n",
      "\n",
      "Data saved to real_estate_listings.csv\n"
     ]
    },
    {
     "data": {
      "text/html": [
       "<div>\n",
       "<style scoped>\n",
       "    .dataframe tbody tr th:only-of-type {\n",
       "        vertical-align: middle;\n",
       "    }\n",
       "\n",
       "    .dataframe tbody tr th {\n",
       "        vertical-align: top;\n",
       "    }\n",
       "\n",
       "    .dataframe thead th {\n",
       "        text-align: right;\n",
       "    }\n",
       "</style>\n",
       "<table border=\"1\" class=\"dataframe\">\n",
       "  <thead>\n",
       "    <tr style=\"text-align: right;\">\n",
       "      <th></th>\n",
       "      <th>address_raw</th>\n",
       "      <th>rooms_raw</th>\n",
       "      <th>area_raw</th>\n",
       "      <th>price_raw</th>\n",
       "      <th>title_raw</th>\n",
       "      <th>description_raw</th>\n",
       "    </tr>\n",
       "  </thead>\n",
       "  <tbody>\n",
       "    <tr>\n",
       "      <th>0</th>\n",
       "      <td>Weidmannstrasse 13, 8046 Zürich</td>\n",
       "      <td>6.5 Zimmer</td>\n",
       "      <td>150m²</td>\n",
       "      <td>CHF 6’320.–</td>\n",
       "      <td>Luxuriöse 6.5-Zimmerwohnung mit großzügigem Ga...</td>\n",
       "      <td>Moderne und wunderschöne 6.5-Zimmerwohnung mit...</td>\n",
       "    </tr>\n",
       "    <tr>\n",
       "      <th>1</th>\n",
       "      <td>Bucheggstrasse 130, 8057 Zürich</td>\n",
       "      <td>6.5 Zimmer</td>\n",
       "      <td>180m²</td>\n",
       "      <td>CHF 7’200.–</td>\n",
       "      <td>Modernes wohnen am Bucheggplatz!</td>\n",
       "      <td>N/A</td>\n",
       "    </tr>\n",
       "    <tr>\n",
       "      <th>2</th>\n",
       "      <td>Hagenholzstrasse 55, 8050 Zürich</td>\n",
       "      <td>4.5 Zimmer</td>\n",
       "      <td>114m²</td>\n",
       "      <td>CHF 3’810.–</td>\n",
       "      <td>MIETEN OHNE KAUTION - Tower fifty five - metro...</td>\n",
       "      <td>N/A</td>\n",
       "    </tr>\n",
       "    <tr>\n",
       "      <th>3</th>\n",
       "      <td>Käferholzstrasse 48, 8057 Zürich</td>\n",
       "      <td>8.5 Zimmer</td>\n",
       "      <td>180m²</td>\n",
       "      <td>CHF 7’080.–</td>\n",
       "      <td>Modernes Wohnen im Guggachpark</td>\n",
       "      <td>N/A</td>\n",
       "    </tr>\n",
       "    <tr>\n",
       "      <th>4</th>\n",
       "      <td>Anna-Heer-Strasse 14, 8057 Zürich</td>\n",
       "      <td>5.5 Zimmer</td>\n",
       "      <td>148m²</td>\n",
       "      <td>CHF 5’830.–</td>\n",
       "      <td>5.5 Zimmerwohnung in Zürich</td>\n",
       "      <td>An der Anna-Heer-Strasse in Zürich entstehen m...</td>\n",
       "    </tr>\n",
       "  </tbody>\n",
       "</table>\n",
       "</div>"
      ],
      "text/plain": [
       "                         address_raw   rooms_raw area_raw    price_raw  \\\n",
       "0    Weidmannstrasse 13, 8046 Zürich  6.5 Zimmer    150m²  CHF 6’320.–   \n",
       "1    Bucheggstrasse 130, 8057 Zürich  6.5 Zimmer    180m²  CHF 7’200.–   \n",
       "2   Hagenholzstrasse 55, 8050 Zürich  4.5 Zimmer    114m²  CHF 3’810.–   \n",
       "3   Käferholzstrasse 48, 8057 Zürich  8.5 Zimmer    180m²  CHF 7’080.–   \n",
       "4  Anna-Heer-Strasse 14, 8057 Zürich  5.5 Zimmer    148m²  CHF 5’830.–   \n",
       "\n",
       "                                           title_raw  \\\n",
       "0  Luxuriöse 6.5-Zimmerwohnung mit großzügigem Ga...   \n",
       "1                   Modernes wohnen am Bucheggplatz!   \n",
       "2  MIETEN OHNE KAUTION - Tower fifty five - metro...   \n",
       "3                     Modernes Wohnen im Guggachpark   \n",
       "4                        5.5 Zimmerwohnung in Zürich   \n",
       "\n",
       "                                     description_raw  \n",
       "0  Moderne und wunderschöne 6.5-Zimmerwohnung mit...  \n",
       "1                                                N/A  \n",
       "2                                                N/A  \n",
       "3                                                N/A  \n",
       "4  An der Anna-Heer-Strasse in Zürich entstehen m...  "
      ]
     },
     "execution_count": 5,
     "metadata": {},
     "output_type": "execute_result"
    }
   ],
   "source": [
    "# Scrape multiple pages\n",
    "data = []\n",
    "base_url = 'https://www.immoscout24.ch/de/immobilien/mieten/ort-zuerich?pn='\n",
    "\n",
    "for page in range(1, 4):  # pages 1 to 3\n",
    "    url = base_url + str(page)\n",
    "    print(f\"Scraping {url}...\")\n",
    "    data.extend(extract_listing_info(url))\n",
    "\n",
    "# Create DataFrame\n",
    "df = pd.DataFrame(data)\n",
    "\n",
    "# Save to CSV\n",
    "df.to_csv('./data/rental_apartments_zuerich.csv', index=False)\n",
    "\n",
    "print(\"\\nData saved to real_estate_listings.csv\")\n",
    "\n",
    "# Show the first few rows of the DataFrame\n",
    "df.head()"
   ]
  },
  {
   "cell_type": "markdown",
   "metadata": {},
   "source": [
    "## Extract prices from strings using a regular expression (regex)"
   ]
  },
  {
   "cell_type": "code",
   "execution_count": 6,
   "metadata": {},
   "outputs": [
    {
     "data": {
      "text/html": [
       "<div>\n",
       "<style scoped>\n",
       "    .dataframe tbody tr th:only-of-type {\n",
       "        vertical-align: middle;\n",
       "    }\n",
       "\n",
       "    .dataframe tbody tr th {\n",
       "        vertical-align: top;\n",
       "    }\n",
       "\n",
       "    .dataframe thead th {\n",
       "        text-align: right;\n",
       "    }\n",
       "</style>\n",
       "<table border=\"1\" class=\"dataframe\">\n",
       "  <thead>\n",
       "    <tr style=\"text-align: right;\">\n",
       "      <th></th>\n",
       "      <th>address_raw</th>\n",
       "      <th>rooms_raw</th>\n",
       "      <th>area_raw</th>\n",
       "      <th>price_raw</th>\n",
       "      <th>price</th>\n",
       "    </tr>\n",
       "  </thead>\n",
       "  <tbody>\n",
       "    <tr>\n",
       "      <th>0</th>\n",
       "      <td>Weidmannstrasse 13, 8046 Zürich</td>\n",
       "      <td>6.5 Zimmer</td>\n",
       "      <td>150m²</td>\n",
       "      <td>CHF 6’320.–</td>\n",
       "      <td>6320.0</td>\n",
       "    </tr>\n",
       "    <tr>\n",
       "      <th>1</th>\n",
       "      <td>Bucheggstrasse 130, 8057 Zürich</td>\n",
       "      <td>6.5 Zimmer</td>\n",
       "      <td>180m²</td>\n",
       "      <td>CHF 7’200.–</td>\n",
       "      <td>7200.0</td>\n",
       "    </tr>\n",
       "    <tr>\n",
       "      <th>2</th>\n",
       "      <td>Hagenholzstrasse 55, 8050 Zürich</td>\n",
       "      <td>4.5 Zimmer</td>\n",
       "      <td>114m²</td>\n",
       "      <td>CHF 3’810.–</td>\n",
       "      <td>3810.0</td>\n",
       "    </tr>\n",
       "    <tr>\n",
       "      <th>3</th>\n",
       "      <td>Käferholzstrasse 48, 8057 Zürich</td>\n",
       "      <td>8.5 Zimmer</td>\n",
       "      <td>180m²</td>\n",
       "      <td>CHF 7’080.–</td>\n",
       "      <td>7080.0</td>\n",
       "    </tr>\n",
       "    <tr>\n",
       "      <th>4</th>\n",
       "      <td>Anna-Heer-Strasse 14, 8057 Zürich</td>\n",
       "      <td>5.5 Zimmer</td>\n",
       "      <td>148m²</td>\n",
       "      <td>CHF 5’830.–</td>\n",
       "      <td>5830.0</td>\n",
       "    </tr>\n",
       "  </tbody>\n",
       "</table>\n",
       "</div>"
      ],
      "text/plain": [
       "                         address_raw   rooms_raw area_raw    price_raw   price\n",
       "0    Weidmannstrasse 13, 8046 Zürich  6.5 Zimmer    150m²  CHF 6’320.–  6320.0\n",
       "1    Bucheggstrasse 130, 8057 Zürich  6.5 Zimmer    180m²  CHF 7’200.–  7200.0\n",
       "2   Hagenholzstrasse 55, 8050 Zürich  4.5 Zimmer    114m²  CHF 3’810.–  3810.0\n",
       "3   Käferholzstrasse 48, 8057 Zürich  8.5 Zimmer    180m²  CHF 7’080.–  7080.0\n",
       "4  Anna-Heer-Strasse 14, 8057 Zürich  5.5 Zimmer    148m²  CHF 5’830.–  5830.0"
      ]
     },
     "execution_count": 6,
     "metadata": {},
     "output_type": "execute_result"
    }
   ],
   "source": [
    "# Extract prices from the 'price_raw' column using a regular expression (regex)\n",
    "df['price'] = df['price_raw'].str.extract(r'(\\d[\\d’]*\\d)')\n",
    "\n",
    "# Remove thousands separator and convert to float\n",
    "df['price'] = df['price'].str.replace('’', '').astype(float)\n",
    "\n",
    "# Show the first few rows of the DataFrame (selected columns)\n",
    "df[['address_raw', 'rooms_raw', 'area_raw', 'price_raw', 'price']].head()"
   ]
  },
  {
   "cell_type": "markdown",
   "metadata": {},
   "source": [
    "## Create histogram of prices"
   ]
  },
  {
   "cell_type": "code",
   "execution_count": 7,
   "metadata": {},
   "outputs": [
    {
     "data": {
      "image/png": "[encoded data removed]",
      "text/plain": [
       "<Figure size 700x400 with 1 Axes>"
      ]
     },
     "metadata": {},
     "output_type": "display_data"
    }
   ],
   "source": [
    "# Plot a histogram of the prices\n",
    "plt.figure(figsize=(7, 4))\n",
    "plt.hist(df['price'], bins=30, color='greenyellow', edgecolor='gray')\n",
    "plt.title('Histogram of prices')\n",
    "plt.xlabel('Price (CHF)')\n",
    "plt.ylabel('Frequency')\n",
    "plt.show()\n"
   ]
  },
  {
   "cell_type": "markdown",
   "metadata": {},
   "source": [
    "### Jupyter notebook --footer info-- (please always provide this at the end of each notebook)"
   ]
  },
  {
   "cell_type": "code",
   "execution_count": null,
   "metadata": {},
   "outputs": [],
   "source": [
    "import os\n",
    "import platform\n",
    "import socket\n",
    "from platform import python_version\n",
    "from datetime import datetime\n",
    "\n",
    "print('-----------------------------------')\n",
    "print(os.name.upper())\n",
    "print(platform.system(), '|', platform.release())\n",
    "print('Datetime:', datetime.now().strftime(\"%Y-%m-%d %H:%M:%S\"))\n",
    "print('Python Version:', python_version())\n",
    "print('-----------------------------------')"
   ]
  }
 ],
 "metadata": {
  "kernelspec": {
   "display_name": "Python 3",
   "language": "python",
   "name": "python3"
  },
  "language_info": {
   "codemirror_mode": {
    "name": "ipython",
    "version": 3
   },
   "file_extension": ".py",
   "mimetype": "text/x-python",
   "name": "python",
   "nbconvert_exporter": "python",
   "pygments_lexer": "ipython3",
   "version": "3.11.11"
  }
 },
 "nbformat": 4,
 "nbformat_minor": 2
}
