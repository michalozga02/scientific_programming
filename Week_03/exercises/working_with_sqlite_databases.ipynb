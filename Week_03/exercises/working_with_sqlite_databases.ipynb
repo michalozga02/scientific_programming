{
 "cells": [
  {
   "cell_type": "markdown",
   "metadata": {},
   "source": [
    "# Working with SQLite databases"
   ]
  },
  {
   "attachments": {},
   "cell_type": "markdown",
   "metadata": {},
   "source": [
    "## Libraries and settings"
   ]
  },
  {
   "cell_type": "code",
   "execution_count": 1,
   "metadata": {},
   "outputs": [
    {
     "name": "stdout",
     "output_type": "stream",
     "text": [
      "/workspaces/scientific_programming/Week_03/exercises\n"
     ]
    }
   ],
   "source": [
    "# Libraries\n",
    "import os\n",
    "import sqlite3\n",
    "import pandas as pd\n",
    "\n",
    "# Ignore warnings\n",
    "import warnings\n",
    "warnings.filterwarnings('ignore')\n",
    "\n",
    "# Show current working directory\n",
    "print(os.getcwd())"
   ]
  },
  {
   "attachments": {},
   "cell_type": "markdown",
   "metadata": {},
   "source": [
    "## Create SQLite database"
   ]
  },
  {
   "cell_type": "code",
   "execution_count": 2,
   "metadata": {},
   "outputs": [],
   "source": [
    "# Create db\n",
    "conn = sqlite3.connect('./data/online_store.db')\n",
    "\n",
    "# Close connection to db\n",
    "conn.close()"
   ]
  },
  {
   "attachments": {},
   "cell_type": "markdown",
   "metadata": {},
   "source": [
    "## Create table 'Customers' and include data"
   ]
  },
  {
   "cell_type": "code",
   "execution_count": null,
   "metadata": {},
   "outputs": [],
   "source": [
    "# Open connection to db\n",
    "conn = sqlite3.connect('./data/online_store.db')\n",
    "\n",
    "# Create table and define variables and data types\n",
    "conn.execute('''CREATE TABLE IF NOT EXISTS Customers\n",
    "             (CustomerID INT PRIMARY KEY     NOT NULL,\n",
    "              CustomerName           TEXT    NOT NULL,\n",
    "              ContactName            TEXT    NOT NULL,\n",
    "              Address            CHAR(100),\n",
    "              City               CHAR(100), \n",
    "              PostalCode         CHAR(50),\n",
    "              Country            CHAR(50));''')\n",
    "\n",
    "# Import data\n",
    "df_cust = pd.read_excel('./data/customers.xlsx', sheet_name='sheet01')\n",
    "\n",
    "# Write data to the data base table named 'COMPANY'\n",
    "df_cust.to_sql('Customers', conn, if_exists='replace')\n",
    "\n",
    "# Commit the changes to the table\n",
    "conn.commit()\n",
    "\n",
    "# Close connection to db\n",
    "conn.close()\n"
   ]
  },
  {
   "attachments": {},
   "cell_type": "markdown",
   "metadata": {},
   "source": [
    "## Create table 'Orders' and include data"
   ]
  },
  {
   "cell_type": "code",
   "execution_count": null,
   "metadata": {},
   "outputs": [],
   "source": [
    "# Open connection to db\n",
    "conn = sqlite3.connect('./data/online_store.db')\n",
    "\n",
    "# Create table and define variables and data types\n",
    "conn.execute('''CREATE TABLE IF NOT EXISTS Orders\n",
    "             (OrderID INT PRIMARY KEY   NOT NULL,\n",
    "              CustomerID         INT    NOT NULL,\n",
    "              EmployeeID\t     INT    NOT NULL,\n",
    "              OrderDate\t         CHAR(100),\n",
    "              ShipperID          INT);''')\n",
    "\n",
    "# Import data\n",
    "df_cust = pd.read_excel('./data/orders.xlsx', sheet_name='sheet01')\n",
    "\n",
    "# Write data to the data base table named 'COMPANY'\n",
    "df_cust.to_sql('Orders', conn, if_exists='replace')\n",
    "\n",
    "# Commit the changes to the table\n",
    "conn.commit()\n",
    "\n",
    "# Close connection to db\n",
    "conn.close()"
   ]
  },
  {
   "attachments": {},
   "cell_type": "markdown",
   "metadata": {},
   "source": [
    "### Query the database using SQL and write result to a pandas data frame"
   ]
  },
  {
   "cell_type": "code",
   "execution_count": null,
   "metadata": {},
   "outputs": [],
   "source": [
    "# Connection to db\n",
    "conn = sqlite3.connect(\"./data/online_store.db\")\n",
    "\n",
    "# SQL query\n",
    "df_sub = pd.read_sql(\"\"\"SELECT\n",
    "                        T1.CustomerID, \n",
    "                        T1.ContactName, \n",
    "                        T1.Address, \n",
    "                        T1.City,\n",
    "                        T1.PostalCode, \n",
    "                        T1.Country, \n",
    "                        T2.OrderID, \n",
    "                        T2.OrderDate\n",
    "                        FROM Customers AS T1\n",
    "                        LEFT JOIN Orders AS T2\n",
    "                        ON T1.CustomerID = T2.CustomerID\n",
    "                        WHERE T1.Country = \"France\"\n",
    "                        AND T1.City IN (\"Nantes\", \"Paris\", \"Toulouse\")\n",
    "                        ORDER BY T1.ContactName\"\"\",\n",
    "                     con=conn)\n",
    " \n",
    "# Close connection to db\n",
    "conn.close()\n",
    "\n",
    "# Show result\n",
    "df_sub\n"
   ]
  },
  {
   "attachments": {},
   "cell_type": "markdown",
   "metadata": {},
   "source": [
    "### Jupyter notebook --footer info-- (please always provide this at the end of each notebook)"
   ]
  },
  {
   "cell_type": "code",
   "execution_count": null,
   "metadata": {},
   "outputs": [],
   "source": [
    "import os\n",
    "import platform\n",
    "import socket\n",
    "from platform import python_version\n",
    "from datetime import datetime\n",
    "\n",
    "print('-----------------------------------')\n",
    "print(os.name.upper())\n",
    "print(platform.system(), '|', platform.release())\n",
    "print('Datetime:', datetime.now().strftime(\"%Y-%m-%d %H:%M:%S\"))\n",
    "print('Python Version:', python_version())\n",
    "print('-----------------------------------')"
   ]
  }
 ],
 "metadata": {
  "kernelspec": {
   "display_name": "Python 3",
   "language": "python",
   "name": "python3"
  },
  "language_info": {
   "codemirror_mode": {
    "name": "ipython",
    "version": 3
   },
   "file_extension": ".py",
   "mimetype": "text/x-python",
   "name": "python",
   "nbconvert_exporter": "python",
   "pygments_lexer": "ipython3",
   "version": "3.11.11"
  },
  "orig_nbformat": 4
 },
 "nbformat": 4,
 "nbformat_minor": 2
}
