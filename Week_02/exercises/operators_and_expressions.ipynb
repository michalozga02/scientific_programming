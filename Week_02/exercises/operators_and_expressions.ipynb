{
 "cells": [
  {
   "cell_type": "markdown",
   "metadata": {},
   "source": [
    "# Operators and Expressions in Python"
   ]
  },
  {
   "cell_type": "markdown",
   "metadata": {},
   "source": [
    "## Libraries and settings"
   ]
  },
  {
   "cell_type": "code",
   "execution_count": null,
   "metadata": {},
   "outputs": [],
   "source": [
    "# Libraries\n",
    "import warnings\n",
    "import os\n",
    "import shutil\n",
    "import json\n",
    "import numpy as np\n",
    "import pandas as pd\n",
    "from tabulate import tabulate\n",
    "\n",
    "# API credentials for Kaggle\n",
    "with open('./data/kaggle.json') as f:\n",
    "    data = json.load(f)\n",
    "\n",
    "os.environ['KAGGLE_USERNAME'] = data['username']\n",
    "os.environ['KAGGLE_KEY'] = data['key']\n",
    "\n",
    "from kaggle.api.kaggle_api_extended import KaggleApi\n",
    "\n",
    "# Ignore warnings\n",
    "warnings.filterwarnings('ignore')\n",
    "\n",
    "# Show current working directory\n",
    "print(os.getcwd())"
   ]
  },
  {
   "cell_type": "markdown",
   "metadata": {},
   "source": [
    "## Initialize the Kaggle API"
   ]
  },
  {
   "cell_type": "code",
   "execution_count": null,
   "metadata": {},
   "outputs": [],
   "source": [
    "# Initialize API\n",
    "api = KaggleApi()\n",
    "api.authenticate()"
   ]
  },
  {
   "attachments": {},
   "cell_type": "markdown",
   "metadata": {},
   "source": [
    "## Get data from Kaggle via Kaggle's Web API"
   ]
  },
  {
   "cell_type": "code",
   "execution_count": null,
   "metadata": {},
   "outputs": [],
   "source": [
    "# Download file\n",
    "api.dataset_download_file('vittoriogiatti/bigmacprice',\n",
    "                          'BigmacPrice.csv',\n",
    "                          path='./data')\n",
    "\n",
    "# Read data to pandas data frame\n",
    "df = pd.read_csv('./data/BigmacPrice.csv', sep=',')\n",
    "df"
   ]
  },
  {
   "attachments": {},
   "cell_type": "markdown",
   "metadata": {},
   "source": [
    "## Use Python operators and expressions to create subsets of the data"
   ]
  },
  {
   "attachments": {},
   "cell_type": "markdown",
   "metadata": {},
   "source": [
    "### Subset based on date & dollar price"
   ]
  },
  {
   "cell_type": "code",
   "execution_count": null,
   "metadata": {},
   "outputs": [],
   "source": [
    "# Countries with lower Big Mac prices\n",
    "df_sub_01 = df.loc[(df['date'] == '2022-07-01') & (df['dollar_price'] <= 2.00)]\n",
    "print('\\nCountries with lower Big Mac prices\\n')\n",
    "print(tabulate(df_sub_01, headers=list(df_sub_01.columns)))\n",
    "\n",
    "# Countries with higher Big Mac prices\n",
    "df_sub_02 = df.loc[(df['date'] == '2022-07-01') & (df['dollar_price'] >= 6.00)]\n",
    "print('\\nCountries with higher Big Mac prices\\n',)\n",
    "print(tabulate(df_sub_02, headers=list(df_sub_02.columns)))"
   ]
  },
  {
   "attachments": {},
   "cell_type": "markdown",
   "metadata": {},
   "source": [
    "### Subset based on country"
   ]
  },
  {
   "cell_type": "code",
   "execution_count": null,
   "metadata": {},
   "outputs": [],
   "source": [
    "# Look at the inflation indicated by the development of 'local_price'\n",
    "df_sub_03 = df.loc[(df['name'] == 'Venezuela')]\n",
    "df_sub_03.head()"
   ]
  },
  {
   "attachments": {},
   "cell_type": "markdown",
   "metadata": {},
   "source": [
    "### Subset based on multiple variables and operators"
   ]
  },
  {
   "cell_type": "code",
   "execution_count": null,
   "metadata": {},
   "outputs": [],
   "source": [
    "# Note the operators here: == (is equal to), & (and), | (OR)\n",
    "df_sub_04 = df.loc[(df['date'] == '2022-07-01') &\n",
    "                   ((df['name'] == 'Switzerland') | (df['dollar_price'] >= 6.80))]\n",
    "df_sub_04"
   ]
  },
  {
   "attachments": {},
   "cell_type": "markdown",
   "metadata": {},
   "source": [
    "## Use Python operators and expressions to create new variables"
   ]
  },
  {
   "attachments": {},
   "cell_type": "markdown",
   "metadata": {},
   "source": [
    "### Create a new variable 'dollar_price_category' based on the dollar price\n"
   ]
  },
  {
   "cell_type": "code",
   "execution_count": null,
   "metadata": {},
   "outputs": [],
   "source": [
    "# Here, pandas apply() method is used in combination with the lambda function (we will come back to this later in the module)\n",
    "df['dollar_price_category'] = df['dollar_price'].apply(\n",
    "    lambda x: 'higher price' if x >= 5.00 else 'lower price')\n",
    "df"
   ]
  },
  {
   "attachments": {},
   "cell_type": "markdown",
   "metadata": {},
   "source": [
    "### Create a pivot table with the new variable 'dollar_price_category'  "
   ]
  },
  {
   "cell_type": "code",
   "execution_count": null,
   "metadata": {},
   "outputs": [],
   "source": [
    "# Subset only the lates prices\n",
    "df_sub_05 = df.loc[(df['date'] == '2022-07-01')]\n",
    "\n",
    "# Create pivot table with mean prices\n",
    "table = pd.pivot_table(df_sub_05[['name', 'dollar_price', 'dollar_price_category']],\n",
    "                       index=['dollar_price_category', 'name'],\n",
    "                       values=['dollar_price'],\n",
    "                       aggfunc=np.mean)\n",
    "print(table)"
   ]
  },
  {
   "attachments": {},
   "cell_type": "markdown",
   "metadata": {},
   "source": [
    "### Jupyter notebook --footer info-- (please always provide this at the end of each notebook)"
   ]
  },
  {
   "cell_type": "code",
   "execution_count": null,
   "metadata": {},
   "outputs": [],
   "source": [
    "import os\n",
    "import platform\n",
    "import socket\n",
    "from platform import python_version\n",
    "from datetime import datetime\n",
    "\n",
    "print('-----------------------------------')\n",
    "print(os.name.upper())\n",
    "print(platform.system(), '|', platform.release())\n",
    "print('Datetime:', datetime.now().strftime(\"%Y-%m-%d %H:%M:%S\"))\n",
    "print('Python Version:', python_version())\n",
    "print('-----------------------------------')"
   ]
  }
 ],
 "metadata": {
  "kernelspec": {
   "display_name": "Python 3",
   "language": "python",
   "name": "python3"
  },
  "language_info": {
   "codemirror_mode": {
    "name": "ipython",
    "version": 3
   },
   "file_extension": ".py",
   "mimetype": "text/x-python",
   "name": "python",
   "nbconvert_exporter": "python",
   "pygments_lexer": "ipython3",
   "version": "3.11.11"
  },
  "orig_nbformat": 4
 },
 "nbformat": 4,
 "nbformat_minor": 2
}
