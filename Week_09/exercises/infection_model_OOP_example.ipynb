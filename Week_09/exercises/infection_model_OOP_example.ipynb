{
 "cells": [
  {
   "attachments": {},
   "cell_type": "markdown",
   "id": "cb813aae",
   "metadata": {},
   "source": [
    "# Object oriented programming (OOP): Agent based infection model"
   ]
  },
  {
   "attachments": {},
   "cell_type": "markdown",
   "id": "d3d2f627",
   "metadata": {},
   "source": [
    "## Libraries and settings"
   ]
  },
  {
   "cell_type": "code",
   "execution_count": null,
   "id": "e59adc13",
   "metadata": {},
   "outputs": [],
   "source": [
    "# Libraries\n",
    "import os\n",
    "import numpy as np\n",
    "import pandas as pd\n",
    "import matplotlib.pyplot as plt\n",
    "\n",
    "import enum\n",
    "from enum import Enum\n",
    "\n",
    "from mesa import Agent, Model\n",
    "from mesa.time import RandomActivation\n",
    "from mesa.space import MultiGrid\n",
    "from mesa.datacollection import DataCollector\n",
    "\n",
    "# Ignore warnings\n",
    "import warnings\n",
    "warnings.filterwarnings('ignore')\n",
    "\n",
    "# Show current working directory\n",
    "print(os.getcwd())"
   ]
  },
  {
   "cell_type": "markdown",
   "id": "bc7a3b7e",
   "metadata": {},
   "source": [
    "## Building an agent-based model"
   ]
  },
  {
   "attachments": {},
   "cell_type": "markdown",
   "id": "a026bc58",
   "metadata": {},
   "source": [
    "### State and MyAgent classes\n",
    "\n",
    "We then create the Agent class. It has three possible states and transitions between them through the simulation. At each step the agent will move and then can carry out any operation such as infecting another agent in the same cell in the grid if the other agent is susceptible. The agent can also recover over time."
   ]
  },
  {
   "cell_type": "code",
   "execution_count": null,
   "id": "331cd2f1",
   "metadata": {},
   "outputs": [],
   "source": [
    "class State(enum.IntEnum):\n",
    "    \"\"\" A class to track the state of the model.\"\"\"\n",
    "    \n",
    "    SUSCEPTIBLE = 0\n",
    "    INFECTED = 1\n",
    "    REMOVED = 2\n",
    "\n",
    "class MyAgent(Agent):\n",
    "    \"\"\" An agent in an epidemic model.\"\"\"\n",
    "\n",
    "    def __init__(self, unique_id, model):\n",
    "        super().__init__(unique_id, model)\n",
    "        self.age = self.random.normalvariate(20,40)        \n",
    "        self.state = State.SUSCEPTIBLE  \n",
    "        self.infection_time = 0\n",
    "\n",
    "    def move(self):\n",
    "        \"\"\"Move the agent\"\"\"\n",
    "\n",
    "        possible_steps = self.model.grid.get_neighborhood(\n",
    "            self.pos,\n",
    "            moore=True,\n",
    "            include_center=False)\n",
    "        new_position = self.random.choice(possible_steps)\n",
    "        self.model.grid.move_agent(self, new_position)\n",
    "\n",
    "    def status(self):\n",
    "        \"\"\"Check infection status\"\"\"\n",
    "\n",
    "        if self.state == State.INFECTED:     \n",
    "            drate = self.model.death_rate\n",
    "            alive = np.random.choice([0,1], p=[drate,1-drate])\n",
    "            if alive == 0:\n",
    "                self.model.schedule.remove(self)            \n",
    "            t = self.model.schedule.time-self.infection_time\n",
    "            if t >= self.recovery_time:          \n",
    "                self.state = State.REMOVED\n",
    "\n",
    "    def contact(self):\n",
    "        \"\"\"Find close contacts and infect\"\"\"\n",
    "\n",
    "        cellmates = self.model.grid.get_cell_list_contents([self.pos])       \n",
    "        if len(cellmates) > 1:\n",
    "            for other in cellmates:\n",
    "                if self.random.random() > model.ptrans:\n",
    "                    continue\n",
    "                if self.state is State.INFECTED and other.state is State.SUSCEPTIBLE:                    \n",
    "                    other.state = State.INFECTED\n",
    "                    other.infection_time = self.model.schedule.time\n",
    "                    other.recovery_time = model.get_recovery_time()\n",
    "\n",
    "    def step(self):\n",
    "        self.status()\n",
    "        self.move()\n",
    "        self.contact()"
   ]
  },
  {
   "attachments": {},
   "cell_type": "markdown",
   "id": "8e0c8150",
   "metadata": {},
   "source": [
    "### InfectionModel class\n",
    "\n",
    "We first make a Model class defining a grid, scheduler for tracking the order of agents being activated in time. Time periods are represented as steps and the agents can all move once in each step. Then the agent will decide if it can infect another according to where it is. The DataCollector class keeps track of agent information through the simulation. The grid is a MultiGrid class, which let more than one agent occupy a cell at once."
   ]
  },
  {
   "cell_type": "code",
   "execution_count": null,
   "id": "ba0ecf4a",
   "metadata": {},
   "outputs": [],
   "source": [
    "class InfectionModel(Model):\n",
    "    \"\"\"A model for infection spread.\"\"\"\n",
    "\n",
    "    def __init__(self, N=10, width=10, height=10, ptrans=0.5,\n",
    "                 death_rate=0.02, recovery_days=21, recovery_sd=7):\n",
    "\n",
    "        self.num_agents = N\n",
    "        self.recovery_days = recovery_days\n",
    "        self.recovery_sd = recovery_sd\n",
    "        self.ptrans = ptrans\n",
    "        self.death_rate = death_rate\n",
    "        self.grid = MultiGrid(width, height, True)\n",
    "        self.schedule = RandomActivation(self)\n",
    "        self.running = True\n",
    "        self.dead_agents = []\n",
    "        \n",
    "        # Create agents\n",
    "        for i in range(self.num_agents):\n",
    "            a = MyAgent(i, self)\n",
    "            self.schedule.add(a)\n",
    "\n",
    "            # Add the agent to a random grid cell\n",
    "            x = self.random.randrange(self.grid.width)\n",
    "            y = self.random.randrange(self.grid.height)\n",
    "            self.grid.place_agent(a, (x, y))\n",
    "            \n",
    "            # Make some agents infected at start\n",
    "            infected = np.random.choice([0,1], p=[0.98,0.02])\n",
    "            if infected == 1:\n",
    "                a.state = State.INFECTED\n",
    "                a.recovery_time = self.get_recovery_time()\n",
    "\n",
    "        self.datacollector = DataCollector(          \n",
    "            agent_reporters={\"State\": \"state\"})\n",
    "\n",
    "    def get_recovery_time(self):\n",
    "        return int(self.random.normalvariate(self.recovery_days,self.recovery_sd))\n",
    "\n",
    "    def step(self):\n",
    "        self.datacollector.collect(self)\n",
    "        self.schedule.step()"
   ]
  },
  {
   "cell_type": "markdown",
   "id": "c4f7347f",
   "metadata": {},
   "source": [
    "## Setup model parameters and run the model"
   ]
  },
  {
   "cell_type": "code",
   "execution_count": null,
   "id": "4a8ffba3",
   "metadata": {},
   "outputs": [],
   "source": [
    "# Settings for number of steps and population size\n",
    "steps = 500\n",
    "pop = 500\n",
    "\n",
    "# Initialize and run the model\n",
    "model = InfectionModel(pop, 20, 20, ptrans=0.5)\n",
    "for i in range(steps):\n",
    "    model.step()\n",
    "\n",
    "# Agent state table\n",
    "agent_state = model.datacollector.get_agent_vars_dataframe()\n",
    "print(agent_state)\n"
   ]
  },
  {
   "cell_type": "markdown",
   "id": "fe3704ad",
   "metadata": {},
   "source": [
    "## View model states data"
   ]
  },
  {
   "cell_type": "code",
   "execution_count": null,
   "id": "cd964062",
   "metadata": {},
   "outputs": [],
   "source": [
    "def get_column_data(model):\n",
    "    \"\"\"Pivot the model dataframe to get states count at each step.\"\"\"\n",
    "\n",
    "    agent_state = model.datacollector.get_agent_vars_dataframe()\n",
    "    X = pd.pivot_table(agent_state.reset_index(),\n",
    "                       index='Step',\n",
    "                       columns='State',\n",
    "                       aggfunc=np.size,\n",
    "                       fill_value=0)    \n",
    "    labels = ['Susceptible','Infected','Removed']\n",
    "    X.columns = labels[:len(X.columns)]\n",
    "    return X\n",
    "\n",
    "df = get_column_data(model)\n",
    "df"
   ]
  },
  {
   "cell_type": "markdown",
   "id": "b550049f",
   "metadata": {},
   "source": [
    "## Plot model states"
   ]
  },
  {
   "cell_type": "code",
   "execution_count": null,
   "id": "b86e1f31",
   "metadata": {},
   "outputs": [],
   "source": [
    "# Plot states\n",
    "plt.figure(figsize=(6,4))\n",
    "plt.plot(df.index, \n",
    "         df.Susceptible, \n",
    "         label = \"Susceptible\", \n",
    "         linestyle=\"-\", \n",
    "         linewidth=3)\n",
    "plt.plot(df.index, \n",
    "         df.Infected, \n",
    "         label = \"Infected\", \n",
    "         linestyle=\"-\", \n",
    "         linewidth=3)\n",
    "plt.plot(df.index, \n",
    "         df.Removed, \n",
    "         label = \"Removed\", \n",
    "         linestyle=\"-\", \n",
    "         linewidth=3)\n",
    "plt.title('Results of agent based model', fontsize=12)\n",
    "plt.xlabel('Model iteration', fontsize=12)\n",
    "plt.ylabel('Number of agents', fontsize=12)\n",
    "plt.legend()\n",
    "plt.show()"
   ]
  },
  {
   "attachments": {},
   "cell_type": "markdown",
   "id": "56338e76",
   "metadata": {},
   "source": [
    "### Jupyter notebook --footer info-- (please always provide this at the end of each notebook)"
   ]
  },
  {
   "cell_type": "code",
   "execution_count": null,
   "id": "6bbfb022",
   "metadata": {},
   "outputs": [],
   "source": [
    "import os\n",
    "import platform\n",
    "import socket\n",
    "from platform import python_version\n",
    "from datetime import datetime\n",
    "\n",
    "print('-----------------------------------')\n",
    "print(os.name.upper())\n",
    "print(platform.system(), '|', platform.release())\n",
    "print('Datetime:', datetime.now().strftime(\"%Y-%m-%d %H:%M:%S\"))\n",
    "print('Python Version:', python_version())\n",
    "print('-----------------------------------')"
   ]
  }
 ],
 "metadata": {
  "kernelspec": {
   "display_name": "spenv",
   "language": "python",
   "name": "python3"
  },
  "language_info": {
   "codemirror_mode": {
    "name": "ipython",
    "version": 3
   },
   "file_extension": ".py",
   "mimetype": "text/x-python",
   "name": "python",
   "nbconvert_exporter": "python",
   "pygments_lexer": "ipython3",
   "version": "3.11.10"
  },
  "vscode": {
   "interpreter": {
    "hash": "e88d0147854d95637bfda66d71c1971db493e0eba7c923c8e835cc4382a02720"
   }
  }
 },
 "nbformat": 4,
 "nbformat_minor": 5
}
