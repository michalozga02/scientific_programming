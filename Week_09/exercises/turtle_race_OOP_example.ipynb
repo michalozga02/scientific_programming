{
 "cells": [
  {
   "cell_type": "markdown",
   "metadata": {},
   "source": [
    "# Object oriented programming (OOP): Turtle Race"
   ]
  },
  {
   "cell_type": "markdown",
   "metadata": {},
   "source": [
    "## Libraries and settings"
   ]
  },
  {
   "cell_type": "code",
   "execution_count": null,
   "metadata": {},
   "outputs": [],
   "source": [
    "# Libraries\n",
    "import os\n",
    "import random\n",
    "import time\n",
    "import shutil\n",
    "from IPython.display import clear_output, display, HTML\n",
    "\n",
    "# Ignore warnings\n",
    "import warnings\n",
    "warnings.filterwarnings('ignore')\n",
    "\n",
    "# Show current working directory\n",
    "print(os.getcwd())"
   ]
  },
  {
   "cell_type": "markdown",
   "metadata": {},
   "source": [
    "## Define Turtle class and TurtleRace class"
   ]
  },
  {
   "cell_type": "code",
   "execution_count": null,
   "metadata": {},
   "outputs": [],
   "source": [
    "# Turtle class\n",
    "class Turtle:\n",
    "    def __init__(self, id, color, svg):\n",
    "        self.id = id\n",
    "        self.color = color\n",
    "        self.position = 0\n",
    "        self.svg = svg\n",
    "\n",
    "    def move(self):\n",
    "        self.position += random.randint(1, 3)\n",
    "\n",
    "    def render(self, track_length):\n",
    "        track = \"-\" * self.position + f\"<span style='color:{self.color}'>{self.svg}</span>\" + \"-\" * (track_length - self.position)\n",
    "        return f\"Turtle {self.id}: {track}<br>\"\n",
    "\n",
    "# TurtleRace class\n",
    "class TurtleRace:\n",
    "    def __init__(self, num_turtles, track_length):\n",
    "        self.num_turtles = num_turtles\n",
    "        self.track_length = track_length\n",
    "        self.turtles = self.create_turtles()\n",
    "        self.race_over = False\n",
    "\n",
    "    def create_turtles(self):\n",
    "        colors = {\n",
    "            1: \"red\",\n",
    "            2: \"green\",\n",
    "            3: \"yellow\",\n",
    "            4: \"blue\",\n",
    "            5: \"magenta\",\n",
    "            6: \"cyan\",\n",
    "            7: \"white\",\n",
    "            8: \"gray\",\n",
    "        }\n",
    "        turtle_svg = \"\"\"\n",
    "        <svg width=\"20\" height=\"20\" viewBox=\"0 0 24 24\"\n",
    "             fill=\"none\" xmlns=\"http://www.w3.org/2000/svg\">\n",
    "          <!-- Body -->\n",
    "          <path d=\"\n",
    "            M 4,9\n",
    "            A 6,4 0 0 1 19,9\n",
    "            Q 21,9 22,10\n",
    "            Q 23,11 22,12\n",
    "            Q 21,13 19,13\n",
    "            A 6,4 0 0 1 4,13\n",
    "            Q 3,13 3,12\n",
    "            Z\n",
    "          \" fill=\"currentColor\"/>\n",
    "          <!-- Legs -->\n",
    "          <circle cx=\"5\" cy=\"14\" r=\"1.5\" fill=\"currentColor\"/>  <!-- Left Front Leg -->\n",
    "          <circle cx=\"5\" cy=\"17\" r=\"1.5\" fill=\"currentColor\"/>  <!-- Left Back Leg -->\n",
    "          <circle cx=\"18\" cy=\"14\" r=\"1.5\" fill=\"currentColor\"/>  <!-- Right Front Leg -->\n",
    "          <circle cx=\"18\" cy=\"17\" r=\"1.5\" fill=\"currentColor\"/>  <!-- Right Back Leg -->\n",
    "        </svg>\n",
    "        \"\"\"\n",
    "        return [Turtle(i, colors[i], turtle_svg) for i in range(1, self.num_turtles + 1)]\n",
    "\n",
    "    def render_track(self):\n",
    "        html_output = \"\"\n",
    "        for turtle in self.turtles:\n",
    "            html_output += turtle.render(self.track_length)\n",
    "        display(HTML(html_output))\n",
    "\n",
    "    def run_race(self):\n",
    "        print(\"\\n🏁 Turtle Race Begins! 🏁\\n\")\n",
    "        time.sleep(1)\n",
    "\n",
    "        for i in range(5, 0, -1):\n",
    "            clear_output(wait=True)\n",
    "            print(f\"Starting in {i} ...\")\n",
    "            time.sleep(1)\n",
    "\n",
    "        clear_output(wait=True)\n",
    "        print(\"Go!\")\n",
    "\n",
    "        # ⏱️ Record race start time\n",
    "        start_time = time.time()\n",
    "\n",
    "        while not self.race_over:\n",
    "            clear_output(wait=False)\n",
    "\n",
    "            for turtle in self.turtles:\n",
    "                turtle.move()\n",
    "                if turtle.position >= self.track_length:\n",
    "                    turtle.position = self.track_length\n",
    "                    self.race_over = True\n",
    "\n",
    "            self.render_track()\n",
    "            time.sleep(0.2)\n",
    "\n",
    "        # ⏱️ Record race end time\n",
    "        end_time = time.time()\n",
    "        elapsed_time = end_time - start_time\n",
    "\n",
    "        winners = [turtle.id for turtle in self.turtles if turtle.position >= self.track_length]\n",
    "        winner_text = (\n",
    "            f\"🏆 The race is over! 🏆<br>\"\n",
    "            f\"Winner(s): Turtle {', '.join(map(str, winners))} 🎉<br>\"\n",
    "            f\"⏱️ Time Elapsed: {elapsed_time:.2f} seconds\"\n",
    "        )\n",
    "\n",
    "        clear_output(wait=False)\n",
    "        display(HTML(\"<left>\" + winner_text + \"</left>\"))\n"
   ]
  },
  {
   "cell_type": "markdown",
   "metadata": {},
   "source": [
    "## Create and run the turtle race"
   ]
  },
  {
   "cell_type": "code",
   "execution_count": null,
   "metadata": {},
   "outputs": [],
   "source": [
    "# Define race settings\n",
    "num_turtles = 3 # min = 1, max 8 turtles\n",
    "track_length = 200 # track length\n",
    "\n",
    "# Create and run the turtle race\n",
    "race = TurtleRace(num_turtles, track_length)\n",
    "race.run_race()"
   ]
  },
  {
   "cell_type": "markdown",
   "metadata": {},
   "source": [
    "### Jupyter notebook --footer info-- (please always provide this at the end of each notebook)"
   ]
  },
  {
   "cell_type": "code",
   "execution_count": null,
   "metadata": {},
   "outputs": [],
   "source": [
    "import os\n",
    "import platform\n",
    "import socket\n",
    "from platform import python_version\n",
    "from datetime import datetime\n",
    "\n",
    "print('-----------------------------------')\n",
    "print(os.name.upper())\n",
    "print(platform.system(), '|', platform.release())\n",
    "print('Datetime:', datetime.now().strftime(\"%Y-%m-%d %H:%M:%S\"))\n",
    "print('Python Version:', python_version())\n",
    "print('-----------------------------------')"
   ]
  }
 ],
 "metadata": {
  "kernelspec": {
   "display_name": "spenv",
   "language": "python",
   "name": "python3"
  },
  "language_info": {
   "codemirror_mode": {
    "name": "ipython",
    "version": 3
   },
   "file_extension": ".py",
   "mimetype": "text/x-python",
   "name": "python",
   "nbconvert_exporter": "python",
   "pygments_lexer": "ipython3",
   "version": "3.11.10"
  }
 },
 "nbformat": 4,
 "nbformat_minor": 2
}
