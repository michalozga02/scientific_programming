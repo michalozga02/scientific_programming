{
 "cells": [
  {
   "cell_type": "markdown",
   "metadata": {},
   "source": [
    "# Exploratory data analysis (EDA) of car data"
   ]
  },
  {
   "cell_type": "markdown",
   "metadata": {},
   "source": [
    "## Libraries and settings"
   ]
  },
  {
   "cell_type": "code",
   "execution_count": 1,
   "metadata": {},
   "outputs": [
    {
     "name": "stdout",
     "output_type": "stream",
     "text": [
      "/workspaces/scientific_programming/Week_05/exercises\n"
     ]
    }
   ],
   "source": [
    "# Libraries\n",
    "import os\n",
    "import random\n",
    "import squarify\n",
    "import pandas as pd\n",
    "import numpy as np\n",
    "import seaborn as sns\n",
    "import matplotlib.pyplot as plt\n",
    "import statsmodels.api as sm\n",
    "from datetime import datetime, timedelta\n",
    "\n",
    "# seaborn graphics settings\n",
    "sns.set_theme(color_codes=True)\n",
    "\n",
    "# Ignore warnings\n",
    "import warnings\n",
    "warnings.filterwarnings(\"ignore\")\n",
    "\n",
    "# Show current working directory\n",
    "print(os.getcwd())"
   ]
  },
  {
   "cell_type": "markdown",
   "metadata": {},
   "source": [
    "## Importing the car data"
   ]
  },
  {
   "cell_type": "markdown",
   "metadata": {},
   "source": [
    "### Importing the car data"
   ]
  },
  {
   "cell_type": "code",
   "execution_count": 3,
   "metadata": {},
   "outputs": [
    {
     "data": {
      "text/html": [
       "<div>\n",
       "<style scoped>\n",
       "    .dataframe tbody tr th:only-of-type {\n",
       "        vertical-align: middle;\n",
       "    }\n",
       "\n",
       "    .dataframe tbody tr th {\n",
       "        vertical-align: top;\n",
       "    }\n",
       "\n",
       "    .dataframe thead th {\n",
       "        text-align: right;\n",
       "    }\n",
       "</style>\n",
       "<table border=\"1\" class=\"dataframe\">\n",
       "  <thead>\n",
       "    <tr style=\"text-align: right;\">\n",
       "      <th></th>\n",
       "      <th>offer_id</th>\n",
       "      <th>type</th>\n",
       "      <th>price</th>\n",
       "      <th>hp</th>\n",
       "      <th>mileage</th>\n",
       "      <th>fuel_type</th>\n",
       "      <th>transmission</th>\n",
       "      <th>dealer_plz</th>\n",
       "      <th>dealer_city</th>\n",
       "      <th>dealer_street_house_nr</th>\n",
       "      <th>init_regist_my</th>\n",
       "      <th>init_regist_month</th>\n",
       "      <th>init_regist_year</th>\n",
       "      <th>init_regist_dt</th>\n",
       "    </tr>\n",
       "  </thead>\n",
       "  <tbody>\n",
       "    <tr>\n",
       "      <th>0</th>\n",
       "      <td>7324420</td>\n",
       "      <td>AUDI A5 Sportback 3.0 TDI quattro S-tronic (Li...</td>\n",
       "      <td>22500</td>\n",
       "      <td>245</td>\n",
       "      <td>75000</td>\n",
       "      <td>Diesel</td>\n",
       "      <td>Automatisiertes Schaltgetriebe</td>\n",
       "      <td>8488</td>\n",
       "      <td>Turbenthal</td>\n",
       "      <td>Mettlenstrasse 3</td>\n",
       "      <td>10.2014</td>\n",
       "      <td>10.0</td>\n",
       "      <td>2014.0</td>\n",
       "      <td>2014-10</td>\n",
       "    </tr>\n",
       "    <tr>\n",
       "      <th>1</th>\n",
       "      <td>7512768</td>\n",
       "      <td>MERCEDES-BENZ SLK 200 7G-Tronic (Cabriolet)</td>\n",
       "      <td>23749</td>\n",
       "      <td>184</td>\n",
       "      <td>46655</td>\n",
       "      <td>Benzin</td>\n",
       "      <td>Automat sequentiell</td>\n",
       "      <td>3186</td>\n",
       "      <td>Düdingen</td>\n",
       "      <td>Brugerastrasse 60</td>\n",
       "      <td>6.2013</td>\n",
       "      <td>6.0</td>\n",
       "      <td>2013.0</td>\n",
       "      <td>2013-06</td>\n",
       "    </tr>\n",
       "    <tr>\n",
       "      <th>2</th>\n",
       "      <td>7512034</td>\n",
       "      <td>MERCEDES-BENZ C 350 Avantgarde 4Matic 7G-Troni...</td>\n",
       "      <td>18500</td>\n",
       "      <td>306</td>\n",
       "      <td>138955</td>\n",
       "      <td>Benzin</td>\n",
       "      <td>Automat sequentiell</td>\n",
       "      <td>1262</td>\n",
       "      <td>Eysins</td>\n",
       "      <td>1262 Eysins</td>\n",
       "      <td>6.2011</td>\n",
       "      <td>6.0</td>\n",
       "      <td>2011.0</td>\n",
       "      <td>2011-06</td>\n",
       "    </tr>\n",
       "    <tr>\n",
       "      <th>3</th>\n",
       "      <td>7512728</td>\n",
       "      <td>MERCEDES-BENZ A 45 AMG 4Matic Speedshift 7G-DC...</td>\n",
       "      <td>36000</td>\n",
       "      <td>360</td>\n",
       "      <td>43000</td>\n",
       "      <td>Benzin</td>\n",
       "      <td>Automatisiertes Schaltgetriebe</td>\n",
       "      <td>4314</td>\n",
       "      <td>Zeiningen</td>\n",
       "      <td>Am Stutz 21</td>\n",
       "      <td>8.2015</td>\n",
       "      <td>8.0</td>\n",
       "      <td>2015.0</td>\n",
       "      <td>2015-08</td>\n",
       "    </tr>\n",
       "    <tr>\n",
       "      <th>4</th>\n",
       "      <td>7490242</td>\n",
       "      <td>AUDI A5 Sportback 2.0 TFSI Sport quattro S-tro...</td>\n",
       "      <td>48500</td>\n",
       "      <td>252</td>\n",
       "      <td>43300</td>\n",
       "      <td>Benzin</td>\n",
       "      <td>Automatisiertes Schaltgetriebe</td>\n",
       "      <td>3250</td>\n",
       "      <td>Lyss</td>\n",
       "      <td>3250 Lyss</td>\n",
       "      <td>9.2018</td>\n",
       "      <td>9.0</td>\n",
       "      <td>2018.0</td>\n",
       "      <td>2018-09</td>\n",
       "    </tr>\n",
       "  </tbody>\n",
       "</table>\n",
       "</div>"
      ],
      "text/plain": [
       "   offer_id                                               type  price   hp  \\\n",
       "0   7324420  AUDI A5 Sportback 3.0 TDI quattro S-tronic (Li...  22500  245   \n",
       "1   7512768        MERCEDES-BENZ SLK 200 7G-Tronic (Cabriolet)  23749  184   \n",
       "2   7512034  MERCEDES-BENZ C 350 Avantgarde 4Matic 7G-Troni...  18500  306   \n",
       "3   7512728  MERCEDES-BENZ A 45 AMG 4Matic Speedshift 7G-DC...  36000  360   \n",
       "4   7490242  AUDI A5 Sportback 2.0 TFSI Sport quattro S-tro...  48500  252   \n",
       "\n",
       "   mileage fuel_type                    transmission  dealer_plz dealer_city  \\\n",
       "0    75000    Diesel  Automatisiertes Schaltgetriebe        8488  Turbenthal   \n",
       "1    46655    Benzin             Automat sequentiell        3186    Düdingen   \n",
       "2   138955    Benzin             Automat sequentiell        1262      Eysins   \n",
       "3    43000    Benzin  Automatisiertes Schaltgetriebe        4314   Zeiningen   \n",
       "4    43300    Benzin  Automatisiertes Schaltgetriebe        3250        Lyss   \n",
       "\n",
       "  dealer_street_house_nr  init_regist_my  init_regist_month  init_regist_year  \\\n",
       "0       Mettlenstrasse 3         10.2014               10.0            2014.0   \n",
       "1      Brugerastrasse 60          6.2013                6.0            2013.0   \n",
       "2            1262 Eysins          6.2011                6.0            2011.0   \n",
       "3            Am Stutz 21          8.2015                8.0            2015.0   \n",
       "4              3250 Lyss          9.2018                9.0            2018.0   \n",
       "\n",
       "  init_regist_dt  \n",
       "0        2014-10  \n",
       "1        2013-06  \n",
       "2        2011-06  \n",
       "3        2015-08  \n",
       "4        2018-09  "
      ]
     },
     "execution_count": 3,
     "metadata": {},
     "output_type": "execute_result"
    }
   ],
   "source": [
    "# Columns to read\n",
    "columns = [\"Offer_Id\",\n",
    "            \"Type\",\n",
    "            \"Price\",\n",
    "            \"HP\",\n",
    "            \"Mileage\",\n",
    "            \"Fuel_Type\",\n",
    "            \"Transmission\",\n",
    "            \"Dealer_PLZ\",\n",
    "            \"Dealer_City\",\n",
    "            \"Dealer_Street_House_Nr\",\n",
    "            \"Init_Regist_MY\",\n",
    "            \"Init_Regist_Month\",\n",
    "            \"Init_Regist_Year\",\n",
    "            \"Init_Regist_Dt\"]\n",
    "\n",
    "# Read and select variables\n",
    "df_orig = pd.read_csv(\"./data/autoscout24_data_enriched_cleaned.csv\", sep=\",\")[columns]\n",
    "\n",
    "# Change column names to lower case\n",
    "df_orig.columns = df_orig.columns.str.lower()\n",
    "\n",
    "# Remove duplicates\n",
    "df_orig = df_orig.drop_duplicates()\n",
    "df_orig.head(5)\n",
    "\n",
    "# Remove missing values\n",
    "df = df_orig.dropna()\n",
    "df.head(5)"
   ]
  },
  {
   "cell_type": "markdown",
   "metadata": {},
   "source": [
    "## Univariate non-graphical exploratory data analysis (EDA)"
   ]
  },
  {
   "cell_type": "markdown",
   "metadata": {},
   "source": [
    "### Quantiles"
   ]
  },
  {
   "cell_type": "code",
   "execution_count": null,
   "metadata": {},
   "outputs": [],
   "source": [
    "# Calculate Quantiles \n",
    "df[['price', 'hp', 'mileage']].quantile(\n",
    "    q=[0.05, 0.10, 0.25, 0.50, 0.75, 0.90, 0.95]).round(2)"
   ]
  },
  {
   "cell_type": "markdown",
   "metadata": {},
   "source": [
    "### Shape (number of rows and colums)"
   ]
  },
  {
   "cell_type": "code",
   "execution_count": null,
   "metadata": {},
   "outputs": [],
   "source": [
    "# Number of rows and columns\n",
    "print(df.shape)"
   ]
  },
  {
   "cell_type": "markdown",
   "metadata": {},
   "source": [
    "### Data types"
   ]
  },
  {
   "cell_type": "code",
   "execution_count": null,
   "metadata": {},
   "outputs": [],
   "source": [
    "# Show data types\n",
    "df.dtypes"
   ]
  },
  {
   "cell_type": "markdown",
   "metadata": {},
   "source": [
    "### Summary statistics of numeric variables"
   ]
  },
  {
   "cell_type": "code",
   "execution_count": null,
   "metadata": {},
   "outputs": [],
   "source": [
    "# Show summary statistics of variables\n",
    "df.describe()"
   ]
  },
  {
   "cell_type": "markdown",
   "metadata": {},
   "source": [
    "### Statistical measures (min, max, std, mean, median, count) for selected variables"
   ]
  },
  {
   "cell_type": "code",
   "execution_count": null,
   "metadata": {},
   "outputs": [],
   "source": [
    "# Price\n",
    "print('Price:',\n",
    "      'Count:', round(df.price.count(), 1),\n",
    "      'Min:', round(df.price.min(), 1),\n",
    "      'Max:', round(df.price.max(), 1),\n",
    "      'Mean:', round(df.price.mean(), 1),\n",
    "      'Median:', round(df.price.median(), 1),\n",
    "      'Std:', round(df.price.std(), 1))\n",
    "\n",
    "# Area\n",
    "print('Area:',\n",
    "      'Count:', round(df.mileage.count(), 1),\n",
    "      'Min:', round(df.mileage.min(), 1),\n",
    "      'Max:', round(df.mileage.max(), 1),\n",
    "      'Mean:', round(df.mileage.mean(), 1),\n",
    "      'Median:', round(df.mileage.median(), 1),\n",
    "      'Std:', round(df.mileage.std(), 1))"
   ]
  },
  {
   "cell_type": "markdown",
   "metadata": {},
   "source": [
    "### Skewness"
   ]
  },
  {
   "cell_type": "code",
   "execution_count": null,
   "metadata": {},
   "outputs": [],
   "source": [
    "df[['price', 'hp', 'mileage']].skew()"
   ]
  },
  {
   "cell_type": "markdown",
   "metadata": {},
   "source": [
    "### Kurtosis"
   ]
  },
  {
   "cell_type": "code",
   "execution_count": null,
   "metadata": {},
   "outputs": [],
   "source": [
    "df[['price', 'hp', 'mileage']].kurtosis()"
   ]
  },
  {
   "cell_type": "markdown",
   "metadata": {},
   "source": [
    "### Extreme values"
   ]
  },
  {
   "cell_type": "code",
   "execution_count": null,
   "metadata": {},
   "outputs": [],
   "source": [
    "# Low costs cars\n",
    "df[df['price'] <= 500]"
   ]
  },
  {
   "cell_type": "code",
   "execution_count": null,
   "metadata": {},
   "outputs": [],
   "source": [
    "# Very expansive cars\n",
    "df[df['price'] >= 250000]"
   ]
  },
  {
   "cell_type": "markdown",
   "metadata": {},
   "source": [
    "### Get a list of categories of categorical variable"
   ]
  },
  {
   "cell_type": "code",
   "execution_count": null,
   "metadata": {},
   "outputs": [],
   "source": [
    "np.array(pd.Categorical(df['fuel_type']).categories)"
   ]
  },
  {
   "cell_type": "markdown",
   "metadata": {},
   "source": [
    "## Multivariate non-graphical exploratory data analysis (EDA)"
   ]
  },
  {
   "cell_type": "markdown",
   "metadata": {},
   "source": [
    "### Cross-tabulation"
   ]
  },
  {
   "cell_type": "code",
   "execution_count": 4,
   "metadata": {},
   "outputs": [
    {
     "data": {
      "text/html": [
       "<div>\n",
       "<style scoped>\n",
       "    .dataframe tbody tr th:only-of-type {\n",
       "        vertical-align: middle;\n",
       "    }\n",
       "\n",
       "    .dataframe tbody tr th {\n",
       "        vertical-align: top;\n",
       "    }\n",
       "\n",
       "    .dataframe thead th {\n",
       "        text-align: right;\n",
       "    }\n",
       "</style>\n",
       "<table border=\"1\" class=\"dataframe\">\n",
       "  <thead>\n",
       "    <tr style=\"text-align: right;\">\n",
       "      <th>transmission</th>\n",
       "      <th>Allrad</th>\n",
       "      <th>Automat</th>\n",
       "      <th>Automat sequentiell</th>\n",
       "      <th>Automat stufenlos</th>\n",
       "      <th>Automat stufenlos, sequentiell</th>\n",
       "      <th>Automatik-Getriebe</th>\n",
       "      <th>Automatisiertes Schaltgetriebe</th>\n",
       "      <th>Hinterradantrieb</th>\n",
       "      <th>Schaltgetriebe</th>\n",
       "      <th>Schaltgetriebe manuell</th>\n",
       "      <th>Schaltgetriebe sequentiell</th>\n",
       "    </tr>\n",
       "    <tr>\n",
       "      <th>fuel_type</th>\n",
       "      <th></th>\n",
       "      <th></th>\n",
       "      <th></th>\n",
       "      <th></th>\n",
       "      <th></th>\n",
       "      <th></th>\n",
       "      <th></th>\n",
       "      <th></th>\n",
       "      <th></th>\n",
       "      <th></th>\n",
       "      <th></th>\n",
       "    </tr>\n",
       "  </thead>\n",
       "  <tbody>\n",
       "    <tr>\n",
       "      <th>Automat</th>\n",
       "      <td>0</td>\n",
       "      <td>0</td>\n",
       "      <td>0</td>\n",
       "      <td>0</td>\n",
       "      <td>0</td>\n",
       "      <td>0</td>\n",
       "      <td>0</td>\n",
       "      <td>1</td>\n",
       "      <td>0</td>\n",
       "      <td>0</td>\n",
       "      <td>0</td>\n",
       "    </tr>\n",
       "    <tr>\n",
       "      <th>Automatik-Getriebe</th>\n",
       "      <td>1</td>\n",
       "      <td>0</td>\n",
       "      <td>0</td>\n",
       "      <td>0</td>\n",
       "      <td>0</td>\n",
       "      <td>0</td>\n",
       "      <td>0</td>\n",
       "      <td>0</td>\n",
       "      <td>0</td>\n",
       "      <td>0</td>\n",
       "      <td>0</td>\n",
       "    </tr>\n",
       "    <tr>\n",
       "      <th>Benzin</th>\n",
       "      <td>1</td>\n",
       "      <td>244</td>\n",
       "      <td>487</td>\n",
       "      <td>8</td>\n",
       "      <td>25</td>\n",
       "      <td>62</td>\n",
       "      <td>713</td>\n",
       "      <td>1</td>\n",
       "      <td>35</td>\n",
       "      <td>1070</td>\n",
       "      <td>2</td>\n",
       "    </tr>\n",
       "    <tr>\n",
       "      <th>Diesel</th>\n",
       "      <td>0</td>\n",
       "      <td>64</td>\n",
       "      <td>564</td>\n",
       "      <td>1</td>\n",
       "      <td>11</td>\n",
       "      <td>21</td>\n",
       "      <td>198</td>\n",
       "      <td>0</td>\n",
       "      <td>10</td>\n",
       "      <td>306</td>\n",
       "      <td>0</td>\n",
       "    </tr>\n",
       "    <tr>\n",
       "      <th>Elektro</th>\n",
       "      <td>0</td>\n",
       "      <td>0</td>\n",
       "      <td>0</td>\n",
       "      <td>6</td>\n",
       "      <td>0</td>\n",
       "      <td>1</td>\n",
       "      <td>58</td>\n",
       "      <td>0</td>\n",
       "      <td>0</td>\n",
       "      <td>2</td>\n",
       "      <td>0</td>\n",
       "    </tr>\n",
       "    <tr>\n",
       "      <th>Erdgas (CNG) / Benzin</th>\n",
       "      <td>0</td>\n",
       "      <td>0</td>\n",
       "      <td>0</td>\n",
       "      <td>0</td>\n",
       "      <td>0</td>\n",
       "      <td>0</td>\n",
       "      <td>0</td>\n",
       "      <td>0</td>\n",
       "      <td>0</td>\n",
       "      <td>1</td>\n",
       "      <td>0</td>\n",
       "    </tr>\n",
       "    <tr>\n",
       "      <th>Flüssiggas (LPG) / Benzin</th>\n",
       "      <td>0</td>\n",
       "      <td>0</td>\n",
       "      <td>0</td>\n",
       "      <td>0</td>\n",
       "      <td>0</td>\n",
       "      <td>0</td>\n",
       "      <td>0</td>\n",
       "      <td>0</td>\n",
       "      <td>0</td>\n",
       "      <td>1</td>\n",
       "      <td>0</td>\n",
       "    </tr>\n",
       "    <tr>\n",
       "      <th>Hybrid Benzin/Elektro</th>\n",
       "      <td>0</td>\n",
       "      <td>0</td>\n",
       "      <td>0</td>\n",
       "      <td>0</td>\n",
       "      <td>0</td>\n",
       "      <td>1</td>\n",
       "      <td>0</td>\n",
       "      <td>0</td>\n",
       "      <td>0</td>\n",
       "      <td>0</td>\n",
       "      <td>0</td>\n",
       "    </tr>\n",
       "    <tr>\n",
       "      <th>Hybrid Diesel/Elektro</th>\n",
       "      <td>0</td>\n",
       "      <td>0</td>\n",
       "      <td>0</td>\n",
       "      <td>0</td>\n",
       "      <td>0</td>\n",
       "      <td>0</td>\n",
       "      <td>0</td>\n",
       "      <td>0</td>\n",
       "      <td>1</td>\n",
       "      <td>0</td>\n",
       "      <td>0</td>\n",
       "    </tr>\n",
       "    <tr>\n",
       "      <th>Mild-Hybrid Benzin/Elektro</th>\n",
       "      <td>0</td>\n",
       "      <td>0</td>\n",
       "      <td>3</td>\n",
       "      <td>0</td>\n",
       "      <td>0</td>\n",
       "      <td>0</td>\n",
       "      <td>0</td>\n",
       "      <td>0</td>\n",
       "      <td>0</td>\n",
       "      <td>0</td>\n",
       "      <td>0</td>\n",
       "    </tr>\n",
       "    <tr>\n",
       "      <th>Mild-Hybrid Diesel/Elektro</th>\n",
       "      <td>0</td>\n",
       "      <td>0</td>\n",
       "      <td>2</td>\n",
       "      <td>0</td>\n",
       "      <td>0</td>\n",
       "      <td>0</td>\n",
       "      <td>0</td>\n",
       "      <td>0</td>\n",
       "      <td>0</td>\n",
       "      <td>0</td>\n",
       "      <td>0</td>\n",
       "    </tr>\n",
       "    <tr>\n",
       "      <th>Plug-in-Hybrid Benzin/Elektro</th>\n",
       "      <td>0</td>\n",
       "      <td>0</td>\n",
       "      <td>15</td>\n",
       "      <td>2</td>\n",
       "      <td>0</td>\n",
       "      <td>0</td>\n",
       "      <td>8</td>\n",
       "      <td>0</td>\n",
       "      <td>0</td>\n",
       "      <td>1</td>\n",
       "      <td>0</td>\n",
       "    </tr>\n",
       "    <tr>\n",
       "      <th>Plug-in-Hybrid Diesel/Elektro</th>\n",
       "      <td>0</td>\n",
       "      <td>0</td>\n",
       "      <td>4</td>\n",
       "      <td>0</td>\n",
       "      <td>0</td>\n",
       "      <td>0</td>\n",
       "      <td>0</td>\n",
       "      <td>0</td>\n",
       "      <td>0</td>\n",
       "      <td>0</td>\n",
       "      <td>0</td>\n",
       "    </tr>\n",
       "    <tr>\n",
       "      <th>Schaltgetriebe</th>\n",
       "      <td>0</td>\n",
       "      <td>0</td>\n",
       "      <td>0</td>\n",
       "      <td>0</td>\n",
       "      <td>0</td>\n",
       "      <td>0</td>\n",
       "      <td>0</td>\n",
       "      <td>3</td>\n",
       "      <td>0</td>\n",
       "      <td>0</td>\n",
       "      <td>0</td>\n",
       "    </tr>\n",
       "    <tr>\n",
       "      <th>Schaltgetriebe manuell</th>\n",
       "      <td>0</td>\n",
       "      <td>0</td>\n",
       "      <td>0</td>\n",
       "      <td>0</td>\n",
       "      <td>0</td>\n",
       "      <td>0</td>\n",
       "      <td>0</td>\n",
       "      <td>1</td>\n",
       "      <td>0</td>\n",
       "      <td>0</td>\n",
       "      <td>0</td>\n",
       "    </tr>\n",
       "    <tr>\n",
       "      <th>Voll-Hybrid Benzin/Elektro</th>\n",
       "      <td>0</td>\n",
       "      <td>0</td>\n",
       "      <td>0</td>\n",
       "      <td>30</td>\n",
       "      <td>1</td>\n",
       "      <td>0</td>\n",
       "      <td>0</td>\n",
       "      <td>0</td>\n",
       "      <td>0</td>\n",
       "      <td>0</td>\n",
       "      <td>0</td>\n",
       "    </tr>\n",
       "    <tr>\n",
       "      <th>Voll-Hybrid Diesel/Elektro</th>\n",
       "      <td>0</td>\n",
       "      <td>0</td>\n",
       "      <td>1</td>\n",
       "      <td>0</td>\n",
       "      <td>0</td>\n",
       "      <td>0</td>\n",
       "      <td>4</td>\n",
       "      <td>0</td>\n",
       "      <td>0</td>\n",
       "      <td>0</td>\n",
       "      <td>0</td>\n",
       "    </tr>\n",
       "  </tbody>\n",
       "</table>\n",
       "</div>"
      ],
      "text/plain": [
       "transmission                   Allrad  Automat  Automat sequentiell  \\\n",
       "fuel_type                                                             \n",
       "Automat                             0        0                    0   \n",
       "Automatik-Getriebe                  1        0                    0   \n",
       "Benzin                              1      244                  487   \n",
       "Diesel                              0       64                  564   \n",
       "Elektro                             0        0                    0   \n",
       "Erdgas (CNG) / Benzin               0        0                    0   \n",
       "Flüssiggas (LPG) / Benzin           0        0                    0   \n",
       "Hybrid Benzin/Elektro               0        0                    0   \n",
       "Hybrid Diesel/Elektro               0        0                    0   \n",
       "Mild-Hybrid Benzin/Elektro          0        0                    3   \n",
       "Mild-Hybrid Diesel/Elektro          0        0                    2   \n",
       "Plug-in-Hybrid Benzin/Elektro       0        0                   15   \n",
       "Plug-in-Hybrid Diesel/Elektro       0        0                    4   \n",
       "Schaltgetriebe                      0        0                    0   \n",
       "Schaltgetriebe manuell              0        0                    0   \n",
       "Voll-Hybrid Benzin/Elektro          0        0                    0   \n",
       "Voll-Hybrid Diesel/Elektro          0        0                    1   \n",
       "\n",
       "transmission                   Automat stufenlos  \\\n",
       "fuel_type                                          \n",
       "Automat                                        0   \n",
       "Automatik-Getriebe                             0   \n",
       "Benzin                                         8   \n",
       "Diesel                                         1   \n",
       "Elektro                                        6   \n",
       "Erdgas (CNG) / Benzin                          0   \n",
       "Flüssiggas (LPG) / Benzin                      0   \n",
       "Hybrid Benzin/Elektro                          0   \n",
       "Hybrid Diesel/Elektro                          0   \n",
       "Mild-Hybrid Benzin/Elektro                     0   \n",
       "Mild-Hybrid Diesel/Elektro                     0   \n",
       "Plug-in-Hybrid Benzin/Elektro                  2   \n",
       "Plug-in-Hybrid Diesel/Elektro                  0   \n",
       "Schaltgetriebe                                 0   \n",
       "Schaltgetriebe manuell                         0   \n",
       "Voll-Hybrid Benzin/Elektro                    30   \n",
       "Voll-Hybrid Diesel/Elektro                     0   \n",
       "\n",
       "transmission                   Automat stufenlos, sequentiell  \\\n",
       "fuel_type                                                       \n",
       "Automat                                                     0   \n",
       "Automatik-Getriebe                                          0   \n",
       "Benzin                                                     25   \n",
       "Diesel                                                     11   \n",
       "Elektro                                                     0   \n",
       "Erdgas (CNG) / Benzin                                       0   \n",
       "Flüssiggas (LPG) / Benzin                                   0   \n",
       "Hybrid Benzin/Elektro                                       0   \n",
       "Hybrid Diesel/Elektro                                       0   \n",
       "Mild-Hybrid Benzin/Elektro                                  0   \n",
       "Mild-Hybrid Diesel/Elektro                                  0   \n",
       "Plug-in-Hybrid Benzin/Elektro                               0   \n",
       "Plug-in-Hybrid Diesel/Elektro                               0   \n",
       "Schaltgetriebe                                              0   \n",
       "Schaltgetriebe manuell                                      0   \n",
       "Voll-Hybrid Benzin/Elektro                                  1   \n",
       "Voll-Hybrid Diesel/Elektro                                  0   \n",
       "\n",
       "transmission                   Automatik-Getriebe  \\\n",
       "fuel_type                                           \n",
       "Automat                                         0   \n",
       "Automatik-Getriebe                              0   \n",
       "Benzin                                         62   \n",
       "Diesel                                         21   \n",
       "Elektro                                         1   \n",
       "Erdgas (CNG) / Benzin                           0   \n",
       "Flüssiggas (LPG) / Benzin                       0   \n",
       "Hybrid Benzin/Elektro                           1   \n",
       "Hybrid Diesel/Elektro                           0   \n",
       "Mild-Hybrid Benzin/Elektro                      0   \n",
       "Mild-Hybrid Diesel/Elektro                      0   \n",
       "Plug-in-Hybrid Benzin/Elektro                   0   \n",
       "Plug-in-Hybrid Diesel/Elektro                   0   \n",
       "Schaltgetriebe                                  0   \n",
       "Schaltgetriebe manuell                          0   \n",
       "Voll-Hybrid Benzin/Elektro                      0   \n",
       "Voll-Hybrid Diesel/Elektro                      0   \n",
       "\n",
       "transmission                   Automatisiertes Schaltgetriebe  \\\n",
       "fuel_type                                                       \n",
       "Automat                                                     0   \n",
       "Automatik-Getriebe                                          0   \n",
       "Benzin                                                    713   \n",
       "Diesel                                                    198   \n",
       "Elektro                                                    58   \n",
       "Erdgas (CNG) / Benzin                                       0   \n",
       "Flüssiggas (LPG) / Benzin                                   0   \n",
       "Hybrid Benzin/Elektro                                       0   \n",
       "Hybrid Diesel/Elektro                                       0   \n",
       "Mild-Hybrid Benzin/Elektro                                  0   \n",
       "Mild-Hybrid Diesel/Elektro                                  0   \n",
       "Plug-in-Hybrid Benzin/Elektro                               8   \n",
       "Plug-in-Hybrid Diesel/Elektro                               0   \n",
       "Schaltgetriebe                                              0   \n",
       "Schaltgetriebe manuell                                      0   \n",
       "Voll-Hybrid Benzin/Elektro                                  0   \n",
       "Voll-Hybrid Diesel/Elektro                                  4   \n",
       "\n",
       "transmission                   Hinterradantrieb  Schaltgetriebe  \\\n",
       "fuel_type                                                         \n",
       "Automat                                       1               0   \n",
       "Automatik-Getriebe                            0               0   \n",
       "Benzin                                        1              35   \n",
       "Diesel                                        0              10   \n",
       "Elektro                                       0               0   \n",
       "Erdgas (CNG) / Benzin                         0               0   \n",
       "Flüssiggas (LPG) / Benzin                     0               0   \n",
       "Hybrid Benzin/Elektro                         0               0   \n",
       "Hybrid Diesel/Elektro                         0               1   \n",
       "Mild-Hybrid Benzin/Elektro                    0               0   \n",
       "Mild-Hybrid Diesel/Elektro                    0               0   \n",
       "Plug-in-Hybrid Benzin/Elektro                 0               0   \n",
       "Plug-in-Hybrid Diesel/Elektro                 0               0   \n",
       "Schaltgetriebe                                3               0   \n",
       "Schaltgetriebe manuell                        1               0   \n",
       "Voll-Hybrid Benzin/Elektro                    0               0   \n",
       "Voll-Hybrid Diesel/Elektro                    0               0   \n",
       "\n",
       "transmission                   Schaltgetriebe manuell  \\\n",
       "fuel_type                                               \n",
       "Automat                                             0   \n",
       "Automatik-Getriebe                                  0   \n",
       "Benzin                                           1070   \n",
       "Diesel                                            306   \n",
       "Elektro                                             2   \n",
       "Erdgas (CNG) / Benzin                               1   \n",
       "Flüssiggas (LPG) / Benzin                           1   \n",
       "Hybrid Benzin/Elektro                               0   \n",
       "Hybrid Diesel/Elektro                               0   \n",
       "Mild-Hybrid Benzin/Elektro                          0   \n",
       "Mild-Hybrid Diesel/Elektro                          0   \n",
       "Plug-in-Hybrid Benzin/Elektro                       1   \n",
       "Plug-in-Hybrid Diesel/Elektro                       0   \n",
       "Schaltgetriebe                                      0   \n",
       "Schaltgetriebe manuell                              0   \n",
       "Voll-Hybrid Benzin/Elektro                          0   \n",
       "Voll-Hybrid Diesel/Elektro                          0   \n",
       "\n",
       "transmission                   Schaltgetriebe sequentiell  \n",
       "fuel_type                                                  \n",
       "Automat                                                 0  \n",
       "Automatik-Getriebe                                      0  \n",
       "Benzin                                                  2  \n",
       "Diesel                                                  0  \n",
       "Elektro                                                 0  \n",
       "Erdgas (CNG) / Benzin                                   0  \n",
       "Flüssiggas (LPG) / Benzin                               0  \n",
       "Hybrid Benzin/Elektro                                   0  \n",
       "Hybrid Diesel/Elektro                                   0  \n",
       "Mild-Hybrid Benzin/Elektro                              0  \n",
       "Mild-Hybrid Diesel/Elektro                              0  \n",
       "Plug-in-Hybrid Benzin/Elektro                           0  \n",
       "Plug-in-Hybrid Diesel/Elektro                           0  \n",
       "Schaltgetriebe                                          0  \n",
       "Schaltgetriebe manuell                                  0  \n",
       "Voll-Hybrid Benzin/Elektro                              0  \n",
       "Voll-Hybrid Diesel/Elektro                              0  "
      ]
     },
     "execution_count": 4,
     "metadata": {},
     "output_type": "execute_result"
    }
   ],
   "source": [
    "pd.crosstab(df['fuel_type'], df['transmission'])"
   ]
  },
  {
   "cell_type": "markdown",
   "metadata": {},
   "source": [
    "### Pivot tables"
   ]
  },
  {
   "cell_type": "code",
   "execution_count": null,
   "metadata": {},
   "outputs": [],
   "source": [
    "# Using pivot_table to reshape the data and calculate means\n",
    "pd.pivot_table(df[['mileage', 'price', 'hp', 'fuel_type']],\n",
    "               index=['fuel_type'],\n",
    "               values=['price', 'mileage', 'hp'],\n",
    "               aggfunc=(np.mean, 'count')).round(2)"
   ]
  },
  {
   "cell_type": "markdown",
   "metadata": {},
   "source": [
    "### Correlation matrix"
   ]
  },
  {
   "cell_type": "code",
   "execution_count": null,
   "metadata": {},
   "outputs": [],
   "source": [
    "corr = df[['mileage', \n",
    "          'price', \n",
    "          'hp', \n",
    "]].corr()\n",
    "corr"
   ]
  },
  {
   "cell_type": "markdown",
   "metadata": {},
   "source": [
    "### Covariance matrix"
   ]
  },
  {
   "cell_type": "code",
   "execution_count": null,
   "metadata": {},
   "outputs": [],
   "source": [
    "cov = df[['mileage', \n",
    "          'price', \n",
    "          'hp', \n",
    "]].cov()\n",
    "cov"
   ]
  },
  {
   "cell_type": "markdown",
   "metadata": {},
   "source": [
    "## Univariate graphical exploratory data analysis (EDA)"
   ]
  },
  {
   "cell_type": "markdown",
   "metadata": {},
   "source": [
    "### Line chart (matplotlib)"
   ]
  },
  {
   "cell_type": "code",
   "execution_count": null,
   "metadata": {},
   "outputs": [],
   "source": [
    "# Generate time series data for mean car prices over the last 20 years\n",
    "x = []\n",
    "y = []\n",
    "\n",
    "# Start from 25 years ago with an initial price\n",
    "start_date_trend = datetime(2000, 1, 1)\n",
    "initial_price = 100\n",
    "\n",
    "for i in range(25):\n",
    "    date = start_date_trend + timedelta(days=365 * i)\n",
    "    price_increase_factor = 1 + random.uniform(0.01, 0.02)\n",
    "    initial_price *= price_increase_factor\n",
    "    x.append(date)\n",
    "    y.append(round(initial_price, 2))\n",
    "\n",
    "# Create a DataFrame to display the data\n",
    "rental_prices_trend_df = pd.DataFrame({\n",
    "    \"Year\": x,\n",
    "    \"Price (USD)\": y\n",
    "})\n",
    "\n",
    "\n",
    "# Create figure\n",
    "fig = plt.figure(figsize=(7,4))\n",
    "plt.plot(x, y, color=\"green\")\n",
    "plt.title('Development of mean car prices', fontsize=12)\n",
    "plt.xlabel('year', fontsize=10)\n",
    "plt.ylabel('price index (1990 = 100%)', fontsize=10)\n",
    "plt.xticks(fontsize=10)\n",
    "plt.yticks(fontsize=10)\n",
    "\n",
    "plt.show()"
   ]
  },
  {
   "cell_type": "markdown",
   "metadata": {},
   "source": [
    "### Boxplot (seaborn)"
   ]
  },
  {
   "cell_type": "code",
   "execution_count": null,
   "metadata": {},
   "outputs": [],
   "source": [
    "plt.figure(figsize=(8,1.2))\n",
    "plt.ticklabel_format(style='plain')\n",
    "sns.boxplot(x=df['mileage'], color=\"greenyellow\")"
   ]
  },
  {
   "cell_type": "markdown",
   "metadata": {},
   "source": [
    "### Histogram  (matplotlib)"
   ]
  },
  {
   "cell_type": "code",
   "execution_count": null,
   "metadata": {},
   "outputs": [],
   "source": [
    "# Plot Histogram\n",
    "fig = plt.figure( figsize=(7,4))\n",
    "\n",
    "plt.xticks(fontsize=14, rotation=0)\n",
    "plt.yticks(fontsize=14, rotation=0)\n",
    "\n",
    "n, bins, patches = plt.hist(x=df['price'], \n",
    "                            bins=25, \n",
    "                            color='#42AD12',\n",
    "                            alpha=0.5, \n",
    "                            rwidth=0.95\n",
    "                   )\n",
    "plt.grid(True)\n",
    "plt.ticklabel_format(style='plain')\n",
    "plt.grid(axis='y', alpha=0.75)\n",
    "\n",
    "# Set labels\n",
    "plt.xlabel('price', fontsize=10, labelpad=10)\n",
    "plt.ylabel('Number of cars', fontsize=10, labelpad=10)\n",
    "plt.title('Histogram of price', fontsize=12, pad=10)\n",
    "\n",
    "# Set fontsize of tick labels\n",
    "plt.xticks(fontsize = 10)\n",
    "plt.yticks(fontsize = 10)\n",
    "\n",
    "plt.show()"
   ]
  },
  {
   "cell_type": "markdown",
   "metadata": {},
   "source": [
    "### Density plot  (seaborn)"
   ]
  },
  {
   "cell_type": "code",
   "execution_count": 5,
   "metadata": {},
   "outputs": [
    {
     "data": {
      "image/png": "[encoded data removed]",
      "text/plain": [
       "<Figure size 700x400 with 1 Axes>"
      ]
     },
     "metadata": {},
     "output_type": "display_data"
    }
   ],
   "source": [
    "plt.figure(figsize=(7,4))\n",
    "sns.histplot(df['price'], \n",
    "             bins=20, \n",
    "             color='#42AD12',\n",
    "             alpha=0.5,\n",
    "             kde=True, \n",
    "             edgecolor='black', \n",
    "             linewidth=0.1)\n",
    "\n",
    "plt.title('Density plot of price', fontsize=12, pad=10)\n",
    "plt.xlabel('price', fontsize=12, labelpad=10)\n",
    "plt.ylabel('Density', fontsize=12, labelpad=10)\n",
    "plt.grid(True)\n",
    "plt.show()"
   ]
  },
  {
   "cell_type": "markdown",
   "metadata": {},
   "source": [
    "### Quantile-Quantile (QQ-) plot"
   ]
  },
  {
   "cell_type": "code",
   "execution_count": 6,
   "metadata": {},
   "outputs": [
    {
     "name": "stdout",
     "output_type": "stream",
     "text": [
      "      mileage       var\n",
      "1140        1 -1.521350\n",
      "832         1 -1.521350\n",
      "3418       10 -1.521202\n",
      "3618       10 -1.521202\n",
      "2695       11 -1.521186\n",
      "...       ...       ...\n",
      "2597   340890  4.058032\n",
      "3073   344500  4.117117\n",
      "2723   355000  4.288972\n",
      "1288   356673  4.316355\n",
      "988    370000  4.534480\n",
      "\n",
      "[3971 rows x 2 columns]\n"
     ]
    },
    {
     "data": {
      "text/plain": [
       "<function matplotlib.pyplot.show(close=None, block=None)>"
      ]
     },
     "execution_count": 6,
     "metadata": {},
     "output_type": "execute_result"
    },
    {
     "data": {
      "image/png": "[encoded data removed]",
      "text/plain": [
       "<Figure size 640x480 with 1 Axes>"
      ]
     },
     "metadata": {},
     "output_type": "display_data"
    }
   ],
   "source": [
    "# Variable (standardized)\n",
    "x = 'mileage'\n",
    "df_qq = df\n",
    "df_qq['var'] = (df[x]-df[x].mean()) / df[x].std()\n",
    "print(df_qq.sort_values('var')[['mileage', 'var']])\n",
    "    \n",
    "# Plot\n",
    "sm.qqplot(df_qq['var'], line ='45')\n",
    "plt.show"
   ]
  },
  {
   "cell_type": "markdown",
   "metadata": {},
   "source": [
    "### Barchart  (matplotlib)"
   ]
  },
  {
   "cell_type": "code",
   "execution_count": null,
   "metadata": {},
   "outputs": [],
   "source": [
    "# Group data by fuel_type (only the topmost 15 values are shown)\n",
    "df_bar = df['fuel_type'].value_counts().nlargest(15).sort_values(ascending=True)\n",
    "\n",
    "# Values for barchart\n",
    "napart = list(df_bar.values)\n",
    "index = list(df_bar.index.values)\n",
    "y_pos = np.arange(len(index))\n",
    "\n",
    "# Figure\n",
    "fig, ax = plt.subplots(figsize=(7,4))\n",
    "ax.barh(y_pos, napart, align='center', color='g', alpha=0.8)\n",
    "ax.set_yticks(y_pos, index)\n",
    "ax.set_xlabel('Number of cars', fontsize=10)\n",
    "ax.set_ylabel('Fuel type', fontsize=10)\n",
    "\n",
    "# Show graph\n",
    "plt.show()"
   ]
  },
  {
   "cell_type": "markdown",
   "metadata": {},
   "source": [
    "### Piechart (matplotlib)"
   ]
  },
  {
   "cell_type": "code",
   "execution_count": 7,
   "metadata": {},
   "outputs": [
    {
     "data": {
      "image/png": "[encoded data removed]",
      "text/plain": [
       "<Figure size 500x500 with 1 Axes>"
      ]
     },
     "metadata": {},
     "output_type": "display_data"
    }
   ],
   "source": [
    "# Subset of cars with fuel type\n",
    "df_fuel = df[df['fuel_type'].isin(['Diesel', 'Benzin', 'Elektro'])]\n",
    "\n",
    "# Group data (only the 8 most frequently occurencies by fuel type)\n",
    "df_bar = df_fuel.fuel_type.value_counts().nlargest(8).sort_values(ascending=True)\n",
    "\n",
    "# Simple bar chart\n",
    "sizes = list(df_bar.values)\n",
    "labels = list(df_bar.index.values)\n",
    "explode = (0, 0.1, 0) # increases distance of pieces\n",
    "\n",
    "fig1, ax1 = plt.subplots(figsize=(5,5))\n",
    "ax1.pie(sizes, \n",
    "        labels=labels, \n",
    "        explode=explode,\n",
    "        autopct='%1.1f%%',\n",
    "        shadow=False, \n",
    "        startangle=90)\n",
    "ax1.axis('equal')  # ensures that pie is drawn as a circle.\n",
    "\n",
    "plt.show()"
   ]
  },
  {
   "cell_type": "markdown",
   "metadata": {},
   "source": [
    "## Multivariate graphical exploratory data analysis (EDA)"
   ]
  },
  {
   "cell_type": "markdown",
   "metadata": {},
   "source": [
    "### Scatterplot (matplotlib)"
   ]
  },
  {
   "cell_type": "code",
   "execution_count": null,
   "metadata": {},
   "outputs": [],
   "source": [
    "plt.figure(figsize=(7,4))\n",
    "plt.scatter(df['hp'], \n",
    "           df['price'], \n",
    "           color=\"green\", \n",
    "           alpha=1.0,\n",
    "           s=10)\n",
    "plt.title('Scatterplot', fontsize=12)\n",
    "plt.xlabel('hp')\n",
    "plt.ylabel('price (CHF)')\n",
    "plt.show()"
   ]
  },
  {
   "cell_type": "markdown",
   "metadata": {},
   "source": [
    "### Scatterplot (matplotlib) with regression line"
   ]
  },
  {
   "cell_type": "code",
   "execution_count": null,
   "metadata": {},
   "outputs": [],
   "source": [
    "# Subset\n",
    "df_sub = df.loc[(df.price >= 1000)]\n",
    "print(df_sub.shape)\n",
    "\n",
    "# Scatterplot\n",
    "plt.figure(figsize=(7,4))\n",
    "plt.plot(df_sub.hp, \n",
    "         df_sub.price, \n",
    "         'o', \n",
    "         markersize=3.5,\n",
    "         color=\"green\")\n",
    "\n",
    "# Regression line (b = slope, a=intercept)\n",
    "b, a = np.polyfit(df_sub.hp, df_sub.price, 1)\n",
    "print(b)\n",
    "print(a)\n",
    "\n",
    "# Plot regression line\n",
    "plt.plot(df_sub.hp, \n",
    "         b*df_sub.hp + a, \n",
    "         linewidth=1,\n",
    "         linestyle='dashed',\n",
    "         color='darkred')\n",
    "\n",
    "# Add title and axes labels\n",
    "plt.title('Scatterplot with regression line', fontsize=12)\n",
    "plt.ylabel('price', fontsize=12)\n",
    "plt.xlabel('hp', fontsize=12)\n",
    "\n",
    "# Set fontsize of tick labels\n",
    "plt.xticks(fontsize = 10)\n",
    "plt.yticks(fontsize = 10)\n",
    "\n",
    "plt.show()"
   ]
  },
  {
   "cell_type": "markdown",
   "metadata": {},
   "source": [
    "### Scatterplot-matrix (seaborn)"
   ]
  },
  {
   "cell_type": "code",
   "execution_count": null,
   "metadata": {},
   "outputs": [],
   "source": [
    "sns.set_theme(style=\"ticks\", font_scale=0.8)\n",
    "g = sns.PairGrid(df[['mileage', \n",
    "                     'hp', \n",
    "                     'price']], \n",
    "                 height=1.8, \n",
    "                 aspect=1)\n",
    "g.map_upper(sns.scatterplot,color='darkgreen', s=10)\n",
    "g.map_lower(sns.scatterplot, color='darkgreen', s=10)\n",
    "g.map_diag(plt.hist, color='brown')"
   ]
  },
  {
   "cell_type": "markdown",
   "metadata": {},
   "source": [
    "### Hexagonal binning plot  (matplotlib)"
   ]
  },
  {
   "cell_type": "code",
   "execution_count": null,
   "metadata": {},
   "outputs": [],
   "source": [
    "# Subset\n",
    "df_sub = df.loc[(df.price <= 100000) & (df.hp <= 400)]\n",
    "print(df_sub.shape)\n",
    "\n",
    "# Plot\n",
    "fig = plt.figure( figsize=(7,4) )\n",
    "plt.hexbin(df_sub.hp, df_sub.price, gridsize=30, cmap='Greens')\n",
    "\n",
    "# Set labels\n",
    "plt.xlabel('hp', fontsize=12, labelpad=10)\n",
    "plt.ylabel('price', fontsize=12, labelpad=10)\n",
    "plt.title('Two-dimensional histogram of price versus hp', fontsize=12, pad=10)\n",
    "\n",
    "cb = plt.colorbar(label='count in bin')\n",
    "cb.set_label('counts in bin')"
   ]
  },
  {
   "cell_type": "markdown",
   "metadata": {},
   "source": [
    "### Correlation heatmap (seaborn)"
   ]
  },
  {
   "cell_type": "code",
   "execution_count": null,
   "metadata": {},
   "outputs": [],
   "source": [
    "# Set font size for plot\n",
    "sns.set_theme(font_scale=0.8)\n",
    "\n",
    "# Create correlation matrix as the basis for the heatmap\n",
    "corr = df[['mileage', \n",
    "            'hp', \n",
    "            'price']].corr().round(2)\n",
    "print(corr)\n",
    "\n",
    "# Plot heatmap\n",
    "plt.figure(figsize=(7,4))\n",
    "sns.heatmap(corr, \n",
    "            cmap=\"BrBG\", \n",
    "            annot=True)"
   ]
  },
  {
   "cell_type": "markdown",
   "metadata": {},
   "source": [
    "### Bubble plot (seaborn)"
   ]
  },
  {
   "cell_type": "code",
   "execution_count": null,
   "metadata": {},
   "outputs": [],
   "source": [
    "# Calculate price per hp\n",
    "df['price_per_hp'] = df['price'] / df['hp']\n",
    "\n",
    "# Subset of df\n",
    "df_sub = df.loc[(df['price'] >= 25000) & (df['price'] <= 100000)]\n",
    "\n",
    "plt.figure(figsize=(7,4))\n",
    "plt.ticklabel_format(style='plain')\n",
    "cmap = sns.cubehelix_palette(dark=.3, light=3, as_cmap=True)\n",
    "\n",
    "ax = sns.scatterplot(x=\"mileage\", \n",
    "                     y=\"price\",\n",
    "                     size=\"price_per_hp\", # determines bubble size\n",
    "                     hue=\"mileage\",  # determines color\n",
    "                     palette=\"Set2\",\n",
    "                     data=df_sub)\n",
    "\n",
    "# Set title and axes\n",
    "ax.set_title('Price vs mileage', fontsize = 12)\n",
    "ax.set_xlabel('mileage', fontsize = 10)\n",
    "ax.set_ylabel('price', fontsize = 10)\n",
    "ax.legend([],[], frameon=False) # skip legend"
   ]
  },
  {
   "cell_type": "markdown",
   "metadata": {},
   "source": [
    "## Treemap of car makes (squarify)"
   ]
  },
  {
   "cell_type": "code",
   "execution_count": null,
   "metadata": {},
   "outputs": [],
   "source": [
    "# Extract the first word from each string\n",
    "df['make'] = df['type'].str.split().str[0]\n",
    "\n",
    "plt.figure(figsize=(8, 5))\n",
    "top_brands = df['make'].value_counts().nlargest(20)\n",
    "colors = ['#FF6347', '#FFD700', '#ADFF2F', '#00FA9A', '#00CED1', '#1E90FF', \n",
    "          '#9370DB', '#FF69B4', '#8B4513', '#B22222', '#FF4500', '#DA70D6', \n",
    "          '#32CD32', '#4682B4', '#D2691E', '#8A2BE2', '#A52A2A', '#5F9EA0', \n",
    "          '#7FFF00', '#DDA0DD']\n",
    "squarify.plot(sizes=top_brands, \n",
    "              label=top_brands.index, \n",
    "              alpha=0.7, \n",
    "              color=colors[:len(top_brands)])\n",
    "plt.title('Treemap with top 20 car brands')\n",
    "plt.axis('off')\n",
    "plt.show()\n"
   ]
  },
  {
   "cell_type": "markdown",
   "metadata": {},
   "source": [
    "### Jupyter notebook --footer info-- (please always provide this at the end of each notebook)"
   ]
  },
  {
   "cell_type": "code",
   "execution_count": null,
   "metadata": {},
   "outputs": [],
   "source": [
    "import os\n",
    "import platform\n",
    "import socket\n",
    "from platform import python_version\n",
    "from datetime import datetime\n",
    "\n",
    "print('-----------------------------------')\n",
    "print(os.name.upper())\n",
    "print(platform.system(), '|', platform.release())\n",
    "print('Datetime:', datetime.now().strftime(\"%Y-%m-%d %H:%M:%S\"))\n",
    "print('Python Version:', python_version())\n",
    "print('-----------------------------------')"
   ]
  }
 ],
 "metadata": {
  "gist": {
   "data": {
    "description": "histogram.ipynb",
    "public": false
   },
   "id": ""
  },
  "kernelspec": {
   "display_name": "Python 3",
   "language": "python",
   "name": "python3"
  },
  "language_info": {
   "codemirror_mode": {
    "name": "ipython",
    "version": 3
   },
   "file_extension": ".py",
   "mimetype": "text/x-python",
   "name": "python",
   "nbconvert_exporter": "python",
   "pygments_lexer": "ipython3",
   "version": "3.11.11"
  },
  "toc": {
   "base_numbering": 1,
   "nav_menu": {},
   "number_sections": true,
   "sideBar": true,
   "skip_h1_title": false,
   "title_cell": "Table of Contents",
   "title_sidebar": "Contents",
   "toc_cell": false,
   "toc_position": {
    "height": "calc(100% - 180px)",
    "left": "10px",
    "top": "150px",
    "width": "196.075px"
   },
   "toc_section_display": true,
   "toc_window_display": true
  }
 },
 "nbformat": 4,
 "nbformat_minor": 2
}
