{
 "cells": [
  {
   "cell_type": "markdown",
   "metadata": {},
   "source": [
    "# Backtesting the 'buying-the-dip' Trading Strategy"
   ]
  },
  {
   "cell_type": "markdown",
   "metadata": {},
   "source": [
    "## Libraries and settings"
   ]
  },
  {
   "cell_type": "code",
   "execution_count": 2,
   "metadata": {},
   "outputs": [
    {
     "name": "stdout",
     "output_type": "stream",
     "text": [
      "Current working directory: /workspaces/scientific_programming/Week_07/exercises\n"
     ]
    }
   ],
   "source": [
    "# Libraries\n",
    "import os\n",
    "import numpy as np\n",
    "import pandas as pd\n",
    "import yfinance as yf\n",
    "from datetime import datetime\n",
    "import matplotlib.pyplot as plt\n",
    "\n",
    "# Settings\n",
    "import warnings\n",
    "warnings.filterwarnings(\"ignore\")\n",
    "\n",
    "# Current working directory\n",
    "print(f'Current working directory: {os.getcwd()}')"
   ]
  },
  {
   "cell_type": "markdown",
   "metadata": {},
   "source": [
    "## Historical Data iShares Core MSCI World UCITS ETF"
   ]
  },
  {
   "cell_type": "code",
   "execution_count": 3,
   "metadata": {},
   "outputs": [
    {
     "name": "stdout",
     "output_type": "stream",
     "text": [
      "YF.download() has changed argument auto_adjust default to True\n",
      "The currency used by yfinance is: EUR\n"
     ]
    },
    {
     "data": {
      "text/html": [
       "<div>\n",
       "<style scoped>\n",
       "    .dataframe tbody tr th:only-of-type {\n",
       "        vertical-align: middle;\n",
       "    }\n",
       "\n",
       "    .dataframe tbody tr th {\n",
       "        vertical-align: top;\n",
       "    }\n",
       "\n",
       "    .dataframe thead th {\n",
       "        text-align: right;\n",
       "    }\n",
       "</style>\n",
       "<table border=\"1\" class=\"dataframe\">\n",
       "  <thead>\n",
       "    <tr style=\"text-align: right;\">\n",
       "      <th></th>\n",
       "      <th>Close</th>\n",
       "      <th>High</th>\n",
       "      <th>Low</th>\n",
       "      <th>Open</th>\n",
       "      <th>Volume</th>\n",
       "      <th>Monthly_Return</th>\n",
       "    </tr>\n",
       "    <tr>\n",
       "      <th>Date</th>\n",
       "      <th></th>\n",
       "      <th></th>\n",
       "      <th></th>\n",
       "      <th></th>\n",
       "      <th></th>\n",
       "      <th></th>\n",
       "    </tr>\n",
       "  </thead>\n",
       "  <tbody>\n",
       "    <tr>\n",
       "      <th>2010-01-01</th>\n",
       "      <td>17.940001</td>\n",
       "      <td>18.600000</td>\n",
       "      <td>17.770000</td>\n",
       "      <td>18.070000</td>\n",
       "      <td>14303</td>\n",
       "      <td>NaN</td>\n",
       "    </tr>\n",
       "    <tr>\n",
       "      <th>2010-02-01</th>\n",
       "      <td>18.379999</td>\n",
       "      <td>18.620001</td>\n",
       "      <td>17.139999</td>\n",
       "      <td>17.820000</td>\n",
       "      <td>86540</td>\n",
       "      <td>0.024526</td>\n",
       "    </tr>\n",
       "    <tr>\n",
       "      <th>2010-03-01</th>\n",
       "      <td>19.660000</td>\n",
       "      <td>19.930000</td>\n",
       "      <td>18.549999</td>\n",
       "      <td>18.559999</td>\n",
       "      <td>114226</td>\n",
       "      <td>0.069641</td>\n",
       "    </tr>\n",
       "    <tr>\n",
       "      <th>2010-04-01</th>\n",
       "      <td>20.090000</td>\n",
       "      <td>20.469999</td>\n",
       "      <td>19.770000</td>\n",
       "      <td>19.770000</td>\n",
       "      <td>7314</td>\n",
       "      <td>0.021872</td>\n",
       "    </tr>\n",
       "    <tr>\n",
       "      <th>2010-05-01</th>\n",
       "      <td>19.549999</td>\n",
       "      <td>20.415001</td>\n",
       "      <td>18.580000</td>\n",
       "      <td>20.070000</td>\n",
       "      <td>35831</td>\n",
       "      <td>-0.026879</td>\n",
       "    </tr>\n",
       "    <tr>\n",
       "      <th>...</th>\n",
       "      <td>...</td>\n",
       "      <td>...</td>\n",
       "      <td>...</td>\n",
       "      <td>...</td>\n",
       "      <td>...</td>\n",
       "      <td>...</td>\n",
       "    </tr>\n",
       "    <tr>\n",
       "      <th>2024-11-01</th>\n",
       "      <td>104.830002</td>\n",
       "      <td>105.139999</td>\n",
       "      <td>97.214996</td>\n",
       "      <td>97.459999</td>\n",
       "      <td>3182273</td>\n",
       "      <td>0.074628</td>\n",
       "    </tr>\n",
       "    <tr>\n",
       "      <th>2024-12-01</th>\n",
       "      <td>104.160004</td>\n",
       "      <td>106.425003</td>\n",
       "      <td>101.904999</td>\n",
       "      <td>105.169998</td>\n",
       "      <td>2862123</td>\n",
       "      <td>-0.006391</td>\n",
       "    </tr>\n",
       "    <tr>\n",
       "      <th>2025-01-01</th>\n",
       "      <td>108.180000</td>\n",
       "      <td>108.449997</td>\n",
       "      <td>103.455002</td>\n",
       "      <td>104.160004</td>\n",
       "      <td>3677642</td>\n",
       "      <td>0.038594</td>\n",
       "    </tr>\n",
       "    <tr>\n",
       "      <th>2025-02-01</th>\n",
       "      <td>105.445000</td>\n",
       "      <td>108.949997</td>\n",
       "      <td>104.709999</td>\n",
       "      <td>106.830002</td>\n",
       "      <td>3394301</td>\n",
       "      <td>-0.025282</td>\n",
       "    </tr>\n",
       "    <tr>\n",
       "      <th>2025-03-01</th>\n",
       "      <td>97.125000</td>\n",
       "      <td>106.824997</td>\n",
       "      <td>96.099998</td>\n",
       "      <td>106.739998</td>\n",
       "      <td>4635852</td>\n",
       "      <td>-0.078904</td>\n",
       "    </tr>\n",
       "  </tbody>\n",
       "</table>\n",
       "<p>183 rows × 6 columns</p>\n",
       "</div>"
      ],
      "text/plain": [
       "                 Close        High         Low        Open   Volume  \\\n",
       "Date                                                                  \n",
       "2010-01-01   17.940001   18.600000   17.770000   18.070000    14303   \n",
       "2010-02-01   18.379999   18.620001   17.139999   17.820000    86540   \n",
       "2010-03-01   19.660000   19.930000   18.549999   18.559999   114226   \n",
       "2010-04-01   20.090000   20.469999   19.770000   19.770000     7314   \n",
       "2010-05-01   19.549999   20.415001   18.580000   20.070000    35831   \n",
       "...                ...         ...         ...         ...      ...   \n",
       "2024-11-01  104.830002  105.139999   97.214996   97.459999  3182273   \n",
       "2024-12-01  104.160004  106.425003  101.904999  105.169998  2862123   \n",
       "2025-01-01  108.180000  108.449997  103.455002  104.160004  3677642   \n",
       "2025-02-01  105.445000  108.949997  104.709999  106.830002  3394301   \n",
       "2025-03-01   97.125000  106.824997   96.099998  106.739998  4635852   \n",
       "\n",
       "            Monthly_Return  \n",
       "Date                        \n",
       "2010-01-01             NaN  \n",
       "2010-02-01        0.024526  \n",
       "2010-03-01        0.069641  \n",
       "2010-04-01        0.021872  \n",
       "2010-05-01       -0.026879  \n",
       "...                    ...  \n",
       "2024-11-01        0.074628  \n",
       "2024-12-01       -0.006391  \n",
       "2025-01-01        0.038594  \n",
       "2025-02-01       -0.025282  \n",
       "2025-03-01       -0.078904  \n",
       "\n",
       "[183 rows x 6 columns]"
      ]
     },
     "execution_count": 3,
     "metadata": {},
     "output_type": "execute_result"
    }
   ],
   "source": [
    "# Get today's date\n",
    "today = datetime.today().strftime('%Y-%m-%d')\n",
    "\n",
    "# Load historical data iShares Core MSCI World UCITS ETF\n",
    "ticker = 'IWDA.AS'\n",
    "df = yf.download(ticker, \n",
    "                 start='2010-01-01', \n",
    "                 end=today, \n",
    "                 interval='1mo',\n",
    "                 multi_level_index=False,\n",
    "                 progress=False)\n",
    "\n",
    "\n",
    "# Check currency\n",
    "ticker = yf.Ticker(\"IWDA.AS\")\n",
    "print(f\"The currency used by yfinance is: {ticker.info['currency']}\")\n",
    "\n",
    "# Monthly return\n",
    "df['Monthly_Return'] = df['Close'].pct_change()\n",
    "df"
   ]
  },
  {
   "cell_type": "markdown",
   "metadata": {},
   "source": [
    "## Backtesting buying-the-dip versus fixed monthly investment Strategy"
   ]
  },
  {
   "cell_type": "code",
   "execution_count": 4,
   "metadata": {},
   "outputs": [
    {
     "name": "stdout",
     "output_type": "stream",
     "text": [
      "Final portfolio value with fixed monthly investment: 471077.95 EUR\n",
      "Final portfolio value with investment after a drop: 417282.55 EUR\n",
      "\n",
      "Difference in portfolio values: -53795.40 EUR\n"
     ]
    }
   ],
   "source": [
    "# Strategy 1: Invest a fixed amount every month\n",
    "fixed_investment = 1000\n",
    "df['Fixed Investment'] = fixed_investment\n",
    "df['Fixed Shares'] = df['Fixed Investment'] / df['Close']\n",
    "df['Fixed Total Shares'] = df['Fixed Shares'].cumsum()\n",
    "df['Fixed Portfolio Value'] = df['Fixed Total Shares'] * df['Close']\n",
    "\n",
    "# Strategy 2: Invest cumulative monthly savings after a drop of X%\n",
    "threshold = 0.05\n",
    "monthly_savings = 1000\n",
    "df['Trigger Investment'] = 0.0\n",
    "df['Trigger Shares'] = 0.0 \n",
    "savings = 0.0\n",
    "\n",
    "# Ensure that the index is a simple integer\n",
    "df = df.reset_index()\n",
    "\n",
    "for i in range(1, len(df)):\n",
    "    if threshold == 0.00:\n",
    "        # Invest fixed savings every month if the threshold is 0\n",
    "        df.loc[i, 'Trigger Investment'] = monthly_savings\n",
    "    else:\n",
    "        # Accumulate savings if the threshold is > 0\n",
    "        savings += monthly_savings\n",
    "        # Invest the accumulated savings if the price drops by at least threshold\n",
    "        if df.loc[i, 'Close'] <= df.loc[i-1, 'Close'] * (1 - threshold):\n",
    "            df.loc[i, 'Trigger Investment'] = savings\n",
    "            savings = 0\n",
    "\n",
    "    # Calculate the number of shares bought\n",
    "    df.loc[i, 'Trigger Shares'] = (\n",
    "        df.loc[i, 'Trigger Investment'] / df.loc[i, 'Close']\n",
    "    )\n",
    "\n",
    "# Calculate the total number of shares and the portfolio value\n",
    "df['Trigger Total Shares'] = df['Trigger Shares'].cumsum()\n",
    "df['Trigger Portfolio Value'] = df['Trigger Total Shares'] * df['Close']\n",
    "\n",
    "# Output the final portfolio values\n",
    "print(f\"Final portfolio value with fixed monthly investment: {df['Fixed Portfolio Value'].iloc[-1]:.2f} EUR\")\n",
    "print(f\"Final portfolio value with investment after a drop: {df['Trigger Portfolio Value'].iloc[-1]:.2f} EUR\")\n",
    "\n",
    "# Difference in portfolio values\n",
    "diff = df['Trigger Portfolio Value'].iloc[-1] - df['Fixed Portfolio Value'].iloc[-1]\n",
    "print(f\"\\nDifference in portfolio values: {diff:.2f} EUR\")"
   ]
  },
  {
   "cell_type": "markdown",
   "metadata": {},
   "source": [
    "## Plot the results"
   ]
  },
  {
   "cell_type": "code",
   "execution_count": 5,
   "metadata": {},
   "outputs": [
    {
     "data": {
      "image/png": "[encoded data removed]",
      "text/plain": [
       "<Figure size 800x500 with 1 Axes>"
      ]
     },
     "metadata": {},
     "output_type": "display_data"
    }
   ],
   "source": [
    "# Plot the results\n",
    "plt.figure(figsize=(8, 5))\n",
    "plt.plot(df['Date'], df['Fixed Portfolio Value'], label='Fixed monthly investment')\n",
    "plt.plot(df['Date'], df['Trigger Portfolio Value'], label='Investment after drop')\n",
    "plt.title('Backtesting of Investment Strategies')\n",
    "plt.xlabel('Date')\n",
    "plt.ylabel('Portfolio value')\n",
    "plt.legend()\n",
    "plt.grid(True)\n",
    "plt.show()"
   ]
  },
  {
   "cell_type": "markdown",
   "metadata": {},
   "source": [
    "### Jupyter notebook --footer info-- (please always provide this at the end of each notebook)"
   ]
  },
  {
   "cell_type": "code",
   "execution_count": 6,
   "metadata": {},
   "outputs": [
    {
     "name": "stdout",
     "output_type": "stream",
     "text": [
      "-----------------------------------\n",
      "POSIX\n",
      "Linux | 6.8.0-1021-azure\n",
      "Datetime: 2025-04-02 10:42:20\n",
      "Python Version: 3.11.11\n",
      "-----------------------------------\n"
     ]
    }
   ],
   "source": [
    "import os\n",
    "import platform\n",
    "import socket\n",
    "from platform import python_version\n",
    "from datetime import datetime\n",
    "\n",
    "print('-----------------------------------')\n",
    "print(os.name.upper())\n",
    "print(platform.system(), '|', platform.release())\n",
    "print('Datetime:', datetime.now().strftime(\"%Y-%m-%d %H:%M:%S\"))\n",
    "print('Python Version:', python_version())\n",
    "print('-----------------------------------')"
   ]
  }
 ],
 "metadata": {
  "kernelspec": {
   "display_name": "Python 3",
   "language": "python",
   "name": "python3"
  },
  "language_info": {
   "codemirror_mode": {
    "name": "ipython",
    "version": 3
   },
   "file_extension": ".py",
   "mimetype": "text/x-python",
   "name": "python",
   "nbconvert_exporter": "python",
   "pygments_lexer": "ipython3",
   "version": "3.11.11"
  }
 },
 "nbformat": 4,
 "nbformat_minor": 2
}
