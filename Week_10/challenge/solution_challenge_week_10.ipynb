{
 "cells": [
  {
   "attachments": {},
   "cell_type": "markdown",
   "metadata": {},
   "source": [
    "# Random agents in a grid"
   ]
  },
  {
   "attachments": {},
   "cell_type": "markdown",
   "metadata": {},
   "source": [
    "## Libraries and settings"
   ]
  },
  {
   "cell_type": "code",
   "execution_count": 5,
   "metadata": {},
   "outputs": [
    {
     "name": "stdout",
     "output_type": "stream",
     "text": [
      "u:\\Lektionen\\GitHub_Repositories\\scientific_programming\\Week_10\\challenge\n"
     ]
    }
   ],
   "source": [
    "# Libraries\n",
    "import os\n",
    "import random\n",
    "import numpy as np\n",
    "\n",
    "from matplotlib.animation import FuncAnimation\n",
    "import matplotlib.pyplot as plt\n",
    "from matplotlib import animation, rc\n",
    "from matplotlib.colors import ListedColormap\n",
    "import matplotlib.colors as colors\n",
    "\n",
    "from IPython.display import display, clear_output\n",
    "\n",
    "# Ignore warnings\n",
    "import warnings\n",
    "warnings.filterwarnings('ignore')\n",
    "\n",
    "# Show current working directory\n",
    "print(os.getcwd())"
   ]
  },
  {
   "attachments": {},
   "cell_type": "markdown",
   "metadata": {},
   "source": [
    "## Agent class and Model class"
   ]
  },
  {
   "cell_type": "code",
   "execution_count": 6,
   "metadata": {},
   "outputs": [],
   "source": [
    "class Agent:\n",
    "    def __init__(self, x, y):\n",
    "        self.x = x\n",
    "        self.y = y\n",
    "        \n",
    "    def move(self, width, height):\n",
    "        \"\"\"Moves the agents max. 2 steps vertically or horizontally\"\"\"\n",
    "        dx, dy = random.choice([(random.randint(-2, 2), random.randint(-2, 2))])\n",
    "        new_x = self.x + dx\n",
    "        new_y = self.y + dy\n",
    "        if new_x >= 0 and new_x < width:\n",
    "            self.x = new_x\n",
    "        if new_y >= 0 and new_y < height:\n",
    "            self.y = new_y\n",
    "        \n",
    "class Model:\n",
    "    def __init__(self, width, height):\n",
    "        self.width = width\n",
    "        self.height = height\n",
    "        self.hit_count = 0\n",
    "        self.agents = [Agent(random.randint(0, width-1), \n",
    "                             random.randint(0, height-1)) for i in range(2)]\n",
    "        \n",
    "    def update(self):\n",
    "        \"\"\"Updates the state of the agents\"\"\"\n",
    "        for agent in self.agents:\n",
    "            agent.move(self.width, self.height)\n",
    "        if self.agents[0].x == self.agents[1].x and \\\n",
    "            self.agents[0].y == self.agents[1].y:\n",
    "            self.hit_count += 1\n",
    "        \n",
    "    def plot(self):\n",
    "        \"\"\"Plots the grid and agents\"\"\"\n",
    "        grid = np.zeros((self.height, self.width, 3), dtype=np.float32)\n",
    "        new_cmap = colors.ListedColormap(['green', 'orange'])\n",
    "        for i, agent in enumerate(self.agents):\n",
    "            grid[agent.y, agent.x] = plt.get_cmap(new_cmap)(i)[:3]\n",
    "        im = plt.imshow(grid, \n",
    "                        origin='lower', \n",
    "                        extent=[0, self.width, 0, self.height])\n",
    "\n",
    "        return im\n"
   ]
  },
  {
   "attachments": {},
   "cell_type": "markdown",
   "metadata": {},
   "source": [
    "## Create and run the model"
   ]
  },
  {
   "cell_type": "code",
   "execution_count": 7,
   "metadata": {},
   "outputs": [
    {
     "data": {
      "image/png": "[encoded data removed]",
      "text/plain": [
       "<Figure size 500x500 with 1 Axes>"
      ]
     },
     "metadata": {},
     "output_type": "display_data"
    }
   ],
   "source": [
    "# Grid space (e.g. the value 10 provides a 10 x 10 grid space)\n",
    "grid_space_xy = 5\n",
    "\n",
    "# Model\n",
    "model = Model(grid_space_xy, grid_space_xy)\n",
    "\n",
    "# Figure settings\n",
    "fig = plt.figure(figsize=(5,5))\n",
    "ax = fig.add_subplot(1, 1, 1)\n",
    "ax.set_axis_off()\n",
    "im = model.plot()\n",
    "\n",
    "# Function to update the figure\n",
    "def update(frame):\n",
    "    model.update()\n",
    "    im.set_array(model.plot().get_array())\n",
    "    plt.xticks(np.arange(0, grid_space_xy+1, 1), labels='')\n",
    "    plt.yticks(np.arange(0, grid_space_xy+1, 1), labels='')\n",
    "    plt.title(\"Hit Count: {}\".format(model.hit_count))\n",
    "    plt.grid(linewidth=1, color='white')\n",
    "    return im\n",
    "\n",
    "# Model iterations\n",
    "num_iter = 200\n",
    "for i in range(num_iter):\n",
    "    update(1)\n",
    "    display(fig)\n",
    "    clear_output(wait=True)\n",
    "    if i < num_iter - 1:\n",
    "        plt.clf()\n",
    "    else:\n",
    "        pass"
   ]
  },
  {
   "attachments": {},
   "cell_type": "markdown",
   "metadata": {},
   "source": [
    "### Jupyter notebook --footer info-- (please always provide this at the end of each notebook)"
   ]
  },
  {
   "cell_type": "code",
   "execution_count": 8,
   "metadata": {},
   "outputs": [
    {
     "name": "stdout",
     "output_type": "stream",
     "text": [
      "-----------------------------------\n",
      "NT\n",
      "Windows | 10\n",
      "Datetime: 2025-04-22 16:58:57\n",
      "Python Version: 3.11.10\n",
      "-----------------------------------\n"
     ]
    }
   ],
   "source": [
    "import os\n",
    "import platform\n",
    "import socket\n",
    "from platform import python_version\n",
    "from datetime import datetime\n",
    "\n",
    "print('-----------------------------------')\n",
    "print(os.name.upper())\n",
    "print(platform.system(), '|', platform.release())\n",
    "print('Datetime:', datetime.now().strftime(\"%Y-%m-%d %H:%M:%S\"))\n",
    "print('Python Version:', python_version())\n",
    "print('-----------------------------------')"
   ]
  }
 ],
 "metadata": {
  "kernelspec": {
   "display_name": "spenv",
   "language": "python",
   "name": "python3"
  },
  "language_info": {
   "codemirror_mode": {
    "name": "ipython",
    "version": 3
   },
   "file_extension": ".py",
   "mimetype": "text/x-python",
   "name": "python",
   "nbconvert_exporter": "python",
   "pygments_lexer": "ipython3",
   "version": "3.11.10"
  },
  "orig_nbformat": 4
 },
 "nbformat": 4,
 "nbformat_minor": 2
}
